{
 "cells": [
  {
   "cell_type": "markdown",
   "metadata": {},
   "source": [
    "# 포켓몬 게임 만들기\n",
    "\n",
    "> 포켓몬 게임을 만들어봅시다. \n",
    "\n",
    "class Pokemon\n",
    "\n",
    "```\n",
    "* 모든 포켓몬은 기본적으로 이름(name), 레벨(level), 체력(hp)를 가지고 있습니다. \n",
    "\n",
    "* hp는 사용자로부터 값을 받는 것이 아니라 '레벨*10 + (1~5)중 랜덤값'으로 설정됩니다. \n",
    "\n",
    "* 포켓몬은 체력을 잃거나 회복할 수 있습니다.\n",
    "ex) pikachu.set_hp(4)\n",
    "\n",
    "* 포켓몬은 공격을 할 수 있습니다. \n",
    "ex) pikachu.attack(squirtle)\n",
    "```\n",
    "\n",
    "이외에 자유롭게 내용을 추가해서 만들어봅시다."
   ]
  },
  {
   "cell_type": "code",
   "execution_count": 55,
   "metadata": {},
   "outputs": [],
   "source": [
    "class Trainer:\n",
    "    def __init__(self, name, age):\n",
    "        self.name = name\n",
    "        self.age = age\n",
    "        self.town = '태초마을'\n",
    "        self.monsterball = []\n",
    "        \n",
    "    def get_pokemon(self, pokemon):\n",
    "        if random.randint(0, 1):\n",
    "            self.monsterball.append(pokemon)\n",
    "            print(f'{self.name}이(가) {pokemon.name}을 잡았다')\n",
    "        else :\n",
    "            print(f'야생의 {pokemon.name}이(가) 도망갔다')\n",
    "            \n",
    "        def pick_pokemon(self):\n",
    "            if self.monsterball:\n",
    "                return random.sample(self.monsterball)\n",
    "            else:\n",
    "                print('포켓몬을 잡아라')"
   ]
  },
  {
   "cell_type": "code",
   "execution_count": 347,
   "metadata": {},
   "outputs": [],
   "source": [
    "import random\n",
    "class Pokemon():\n",
    "    title = '포켓몬'\n",
    "    level = 1\n",
    "    def __init__(self, name):\n",
    "        self.name = name\n",
    "        self.level = random.randint(1, 50)\n",
    "        self.hp = self.level*5 + random.randint(10, 50)\n",
    "        self.damage = self.level*2 + random.randint(5, 20)\n",
    "        self.speed = self.level*2 + random.randint(1, 20)\n",
    "        self.guard = self.level*2 + random.randint(1, 10)\n",
    "        print(f'''\n",
    "        {name}\n",
    "        레벨 : {self.level}\n",
    "        체력 : {self.hp}\n",
    "        공격력 : {self.damage}\n",
    "        방어력 : {self.guard}\n",
    "        스피드 : {self.speed}\n",
    "        ''')\n",
    "        \n",
    "    #def battle_hp(self):\n",
    "     #   battle_hp = self.hp\n",
    "    \n",
    "    def set_hp(self, num):\n",
    "        self.hp -= num\n",
    "        if self.hp <= 0:\n",
    "            print(f'{self.name}의 체력이 0이 되었다..')\n",
    "        else :\n",
    "            print(f'{self.name}의 체력이 {self.hp}이 되었다..')\n",
    "        \n",
    "    def attack(self, other):\n",
    "        deal = self.damage-other.guard\n",
    "        if deal > 0:\n",
    "            print(f'{self.name}이(가) {other.name}에게 모래 뿌리기를 했다..')\n",
    "            other.set_hp(deal)\n",
    "        else :\n",
    "            print(f'{self.name}이(가) {other.name}에게 모래 뿌리기를 했지만 피해가 없다..')\n",
    "            \n",
    "    #def heal(self):\n",
    "        #selp.hp = \n",
    "        \n",
    "    \n",
    "    @staticmethod\n",
    "    def battle(self, other):\n",
    "        one = self\n",
    "        two = other\n",
    "        cnt = 10\n",
    "        if one.speed >= two.speed :\n",
    "            first = one\n",
    "            second = two\n",
    "        else :\n",
    "            first = two\n",
    "            second = one\n",
    "        while cnt > 0:\n",
    "            first.attack(second)\n",
    "            if second.hp <= 0 :\n",
    "                return f'끄억, {second.name}의 체력이 0이 되어 {first.name}이(가) 승리하였다'\n",
    "                break\n",
    "            second.attack(first)\n",
    "            if first.hp <= 0 :\n",
    "                return f'끄억, {first.name}의 체력이 0이 되어 {second.name}이(가) 승리하였다'\n",
    "                break\n",
    "            cnt -= 1\n",
    "        return '비겼다 다음 기회에'\n",
    "           "
   ]
  },
  {
   "cell_type": "code",
   "execution_count": 87,
   "metadata": {
    "scrolled": true
   },
   "outputs": [
    {
     "name": "stdout",
     "output_type": "stream",
     "text": [
      "지우이(가) 피카츄을 잡았다\n",
      "지우이(가) 프리져을 잡았다\n"
     ]
    }
   ],
   "source": [
    "jiwoo = Trainer('지우', 15)\n",
    "jiwoo.get_pokemon(pikachu)\n",
    "jiwoo.get_pokemon(freezer)"
   ]
  },
  {
   "cell_type": "code",
   "execution_count": 348,
   "metadata": {
    "scrolled": true
   },
   "outputs": [
    {
     "name": "stdout",
     "output_type": "stream",
     "text": [
      "\n",
      "        피카츄\n",
      "        레벨 : 36\n",
      "        체력 : 199\n",
      "        공격력 : 86\n",
      "        방어력 : 74\n",
      "        스피드 : 91\n",
      "        \n"
     ]
    }
   ],
   "source": [
    "pikachu = Pokemon('피카츄')"
   ]
  },
  {
   "cell_type": "code",
   "execution_count": 229,
   "metadata": {},
   "outputs": [
    {
     "data": {
      "text/plain": [
       "{'name': '피카츄', 'level': 34, 'hp': 210, 'damage': 78, 'speed': 87, 'guard': 42}"
      ]
     },
     "execution_count": 229,
     "metadata": {},
     "output_type": "execute_result"
    }
   ],
   "source": [
    "pikachu.__dict__"
   ]
  },
  {
   "cell_type": "code",
   "execution_count": 349,
   "metadata": {
    "scrolled": true
   },
   "outputs": [
    {
     "name": "stdout",
     "output_type": "stream",
     "text": [
      "\n",
      "        프리져\n",
      "        레벨 : 30\n",
      "        체력 : 160\n",
      "        공격력 : 77\n",
      "        방어력 : 68\n",
      "        스피드 : 68\n",
      "        \n"
     ]
    }
   ],
   "source": [
    "freezer = Pokemon('프리져')"
   ]
  },
  {
   "cell_type": "code",
   "execution_count": 233,
   "metadata": {},
   "outputs": [
    {
     "data": {
      "text/plain": [
       "{'name': '프리져', 'level': 31, 'hp': 165, 'damage': 68, 'speed': 72, 'guard': 36}"
      ]
     },
     "execution_count": 233,
     "metadata": {},
     "output_type": "execute_result"
    }
   ],
   "source": [
    "freezer.__dict__"
   ]
  },
  {
   "cell_type": "code",
   "execution_count": 350,
   "metadata": {
    "scrolled": false
   },
   "outputs": [
    {
     "name": "stdout",
     "output_type": "stream",
     "text": [
      "\n",
      "        메타몽\n",
      "        레벨 : 37\n",
      "        체력 : 208\n",
      "        공격력 : 88\n",
      "        방어력 : 75\n",
      "        스피드 : 92\n",
      "        \n"
     ]
    }
   ],
   "source": [
    "metamong = Pokemon('메타몽')"
   ]
  },
  {
   "cell_type": "code",
   "execution_count": 236,
   "metadata": {},
   "outputs": [
    {
     "data": {
      "text/plain": [
       "{'name': '메타몽', 'level': 35, 'hp': 197, 'damage': 76, 'speed': 72, 'guard': 45}"
      ]
     },
     "execution_count": 236,
     "metadata": {},
     "output_type": "execute_result"
    }
   ],
   "source": [
    "metamong.__dict__"
   ]
  },
  {
   "cell_type": "code",
   "execution_count": 358,
   "metadata": {
    "scrolled": true
   },
   "outputs": [
    {
     "name": "stdout",
     "output_type": "stream",
     "text": [
      "\n",
      "        피죤\n",
      "        레벨 : 34\n",
      "        체력 : 183\n",
      "        공격력 : 87\n",
      "        방어력 : 73\n",
      "        스피드 : 73\n",
      "        \n"
     ]
    }
   ],
   "source": [
    "pigeon = Pokemon('피죤')"
   ]
  },
  {
   "cell_type": "code",
   "execution_count": 239,
   "metadata": {},
   "outputs": [
    {
     "data": {
      "text/plain": [
       "{'name': '피죤', 'level': 32, 'hp': 203, 'damage': 70, 'speed': 83, 'guard': 40}"
      ]
     },
     "execution_count": 239,
     "metadata": {},
     "output_type": "execute_result"
    }
   ],
   "source": [
    "pigeon.__dict__"
   ]
  },
  {
   "cell_type": "code",
   "execution_count": 359,
   "metadata": {
    "scrolled": true
   },
   "outputs": [
    {
     "name": "stdout",
     "output_type": "stream",
     "text": [
      "피카츄이(가) 프리져에게 모래 뿌리기를 했다..\n",
      "프리져의 체력이 142이 되었다..\n",
      "프리져이(가) 피카츄에게 모래 뿌리기를 했다..\n",
      "피카츄의 체력이 196이 되었다..\n",
      "피카츄이(가) 프리져에게 모래 뿌리기를 했다..\n",
      "프리져의 체력이 124이 되었다..\n",
      "프리져이(가) 피카츄에게 모래 뿌리기를 했다..\n",
      "피카츄의 체력이 193이 되었다..\n",
      "피카츄이(가) 프리져에게 모래 뿌리기를 했다..\n",
      "프리져의 체력이 106이 되었다..\n",
      "프리져이(가) 피카츄에게 모래 뿌리기를 했다..\n",
      "피카츄의 체력이 190이 되었다..\n",
      "피카츄이(가) 프리져에게 모래 뿌리기를 했다..\n",
      "프리져의 체력이 88이 되었다..\n",
      "프리져이(가) 피카츄에게 모래 뿌리기를 했다..\n",
      "피카츄의 체력이 187이 되었다..\n",
      "피카츄이(가) 프리져에게 모래 뿌리기를 했다..\n",
      "프리져의 체력이 70이 되었다..\n",
      "프리져이(가) 피카츄에게 모래 뿌리기를 했다..\n",
      "피카츄의 체력이 184이 되었다..\n",
      "피카츄이(가) 프리져에게 모래 뿌리기를 했다..\n",
      "프리져의 체력이 52이 되었다..\n",
      "프리져이(가) 피카츄에게 모래 뿌리기를 했다..\n",
      "피카츄의 체력이 181이 되었다..\n",
      "피카츄이(가) 프리져에게 모래 뿌리기를 했다..\n",
      "프리져의 체력이 34이 되었다..\n",
      "프리져이(가) 피카츄에게 모래 뿌리기를 했다..\n",
      "피카츄의 체력이 178이 되었다..\n",
      "피카츄이(가) 프리져에게 모래 뿌리기를 했다..\n",
      "프리져의 체력이 16이 되었다..\n",
      "프리져이(가) 피카츄에게 모래 뿌리기를 했다..\n",
      "피카츄의 체력이 175이 되었다..\n",
      "피카츄이(가) 프리져에게 모래 뿌리기를 했다..\n",
      "프리져의 체력이 0이 되었다..\n"
     ]
    },
    {
     "data": {
      "text/plain": [
       "'끄억, 프리져의 체력이 0이 되어 피카츄이(가) 승리하였다'"
      ]
     },
     "execution_count": 359,
     "metadata": {},
     "output_type": "execute_result"
    }
   ],
   "source": [
    "Pokemon.battle(pikachu, freezer)"
   ]
  },
  {
   "cell_type": "code",
   "execution_count": 360,
   "metadata": {},
   "outputs": [
    {
     "name": "stdout",
     "output_type": "stream",
     "text": [
      "메타몽이(가) 피죤에게 모래 뿌리기를 했다..\n",
      "피죤의 체력이 168이 되었다..\n",
      "피죤이(가) 메타몽에게 모래 뿌리기를 했다..\n",
      "메타몽의 체력이 196이 되었다..\n",
      "메타몽이(가) 피죤에게 모래 뿌리기를 했다..\n",
      "피죤의 체력이 153이 되었다..\n",
      "피죤이(가) 메타몽에게 모래 뿌리기를 했다..\n",
      "메타몽의 체력이 184이 되었다..\n",
      "메타몽이(가) 피죤에게 모래 뿌리기를 했다..\n",
      "피죤의 체력이 138이 되었다..\n",
      "피죤이(가) 메타몽에게 모래 뿌리기를 했다..\n",
      "메타몽의 체력이 172이 되었다..\n",
      "메타몽이(가) 피죤에게 모래 뿌리기를 했다..\n",
      "피죤의 체력이 123이 되었다..\n",
      "피죤이(가) 메타몽에게 모래 뿌리기를 했다..\n",
      "메타몽의 체력이 160이 되었다..\n",
      "메타몽이(가) 피죤에게 모래 뿌리기를 했다..\n",
      "피죤의 체력이 108이 되었다..\n",
      "피죤이(가) 메타몽에게 모래 뿌리기를 했다..\n",
      "메타몽의 체력이 148이 되었다..\n",
      "메타몽이(가) 피죤에게 모래 뿌리기를 했다..\n",
      "피죤의 체력이 93이 되었다..\n",
      "피죤이(가) 메타몽에게 모래 뿌리기를 했다..\n",
      "메타몽의 체력이 136이 되었다..\n",
      "메타몽이(가) 피죤에게 모래 뿌리기를 했다..\n",
      "피죤의 체력이 78이 되었다..\n",
      "피죤이(가) 메타몽에게 모래 뿌리기를 했다..\n",
      "메타몽의 체력이 124이 되었다..\n",
      "메타몽이(가) 피죤에게 모래 뿌리기를 했다..\n",
      "피죤의 체력이 63이 되었다..\n",
      "피죤이(가) 메타몽에게 모래 뿌리기를 했다..\n",
      "메타몽의 체력이 112이 되었다..\n",
      "메타몽이(가) 피죤에게 모래 뿌리기를 했다..\n",
      "피죤의 체력이 48이 되었다..\n",
      "피죤이(가) 메타몽에게 모래 뿌리기를 했다..\n",
      "메타몽의 체력이 100이 되었다..\n",
      "메타몽이(가) 피죤에게 모래 뿌리기를 했다..\n",
      "피죤의 체력이 33이 되었다..\n",
      "피죤이(가) 메타몽에게 모래 뿌리기를 했다..\n",
      "메타몽의 체력이 88이 되었다..\n"
     ]
    },
    {
     "data": {
      "text/plain": [
       "'비겼다 다음 기회에'"
      ]
     },
     "execution_count": 360,
     "metadata": {},
     "output_type": "execute_result"
    }
   ],
   "source": [
    "Pokemon.battle(metamong, pigeon)"
   ]
  },
  {
   "cell_type": "code",
   "execution_count": 361,
   "metadata": {},
   "outputs": [
    {
     "name": "stdout",
     "output_type": "stream",
     "text": [
      "메타몽이(가) 피카츄에게 모래 뿌리기를 했다..\n",
      "피카츄의 체력이 161이 되었다..\n",
      "피카츄이(가) 메타몽에게 모래 뿌리기를 했다..\n",
      "메타몽의 체력이 77이 되었다..\n",
      "메타몽이(가) 피카츄에게 모래 뿌리기를 했다..\n",
      "피카츄의 체력이 147이 되었다..\n",
      "피카츄이(가) 메타몽에게 모래 뿌리기를 했다..\n",
      "메타몽의 체력이 66이 되었다..\n",
      "메타몽이(가) 피카츄에게 모래 뿌리기를 했다..\n",
      "피카츄의 체력이 133이 되었다..\n",
      "피카츄이(가) 메타몽에게 모래 뿌리기를 했다..\n",
      "메타몽의 체력이 55이 되었다..\n",
      "메타몽이(가) 피카츄에게 모래 뿌리기를 했다..\n",
      "피카츄의 체력이 119이 되었다..\n",
      "피카츄이(가) 메타몽에게 모래 뿌리기를 했다..\n",
      "메타몽의 체력이 44이 되었다..\n",
      "메타몽이(가) 피카츄에게 모래 뿌리기를 했다..\n",
      "피카츄의 체력이 105이 되었다..\n",
      "피카츄이(가) 메타몽에게 모래 뿌리기를 했다..\n",
      "메타몽의 체력이 33이 되었다..\n",
      "메타몽이(가) 피카츄에게 모래 뿌리기를 했다..\n",
      "피카츄의 체력이 91이 되었다..\n",
      "피카츄이(가) 메타몽에게 모래 뿌리기를 했다..\n",
      "메타몽의 체력이 22이 되었다..\n",
      "메타몽이(가) 피카츄에게 모래 뿌리기를 했다..\n",
      "피카츄의 체력이 77이 되었다..\n",
      "피카츄이(가) 메타몽에게 모래 뿌리기를 했다..\n",
      "메타몽의 체력이 11이 되었다..\n",
      "메타몽이(가) 피카츄에게 모래 뿌리기를 했다..\n",
      "피카츄의 체력이 63이 되었다..\n",
      "피카츄이(가) 메타몽에게 모래 뿌리기를 했다..\n",
      "메타몽의 체력이 0이 되었다..\n"
     ]
    },
    {
     "data": {
      "text/plain": [
       "'끄억, 메타몽의 체력이 0이 되어 피카츄이(가) 승리하였다'"
      ]
     },
     "execution_count": 361,
     "metadata": {},
     "output_type": "execute_result"
    }
   ],
   "source": [
    "Pokemon.battle(pikachu, metamong)"
   ]
  },
  {
   "cell_type": "code",
   "execution_count": 362,
   "metadata": {},
   "outputs": [
    {
     "name": "stdout",
     "output_type": "stream",
     "text": [
      "피죤이(가) 프리져에게 모래 뿌리기를 했다..\n",
      "프리져의 체력이 0이 되었다..\n"
     ]
    },
    {
     "data": {
      "text/plain": [
       "'끄억, 프리져의 체력이 0이 되어 피죤이(가) 승리하였다'"
      ]
     },
     "execution_count": 362,
     "metadata": {},
     "output_type": "execute_result"
    }
   ],
   "source": [
    "Pokemon.battle(freezer, pigeon)"
   ]
  },
  {
   "cell_type": "code",
   "execution_count": 363,
   "metadata": {},
   "outputs": [
    {
     "name": "stdout",
     "output_type": "stream",
     "text": [
      "피카츄이(가) 피죤에게 모래 뿌리기를 했다..\n",
      "피죤의 체력이 20이 되었다..\n",
      "피죤이(가) 피카츄에게 모래 뿌리기를 했다..\n",
      "피카츄의 체력이 50이 되었다..\n",
      "피카츄이(가) 피죤에게 모래 뿌리기를 했다..\n",
      "피죤의 체력이 7이 되었다..\n",
      "피죤이(가) 피카츄에게 모래 뿌리기를 했다..\n",
      "피카츄의 체력이 37이 되었다..\n",
      "피카츄이(가) 피죤에게 모래 뿌리기를 했다..\n",
      "피죤의 체력이 0이 되었다..\n"
     ]
    },
    {
     "data": {
      "text/plain": [
       "'끄억, 피죤의 체력이 0이 되어 피카츄이(가) 승리하였다'"
      ]
     },
     "execution_count": 363,
     "metadata": {},
     "output_type": "execute_result"
    }
   ],
   "source": [
    "Pokemon.battle(pikachu, pigeon)"
   ]
  },
  {
   "cell_type": "code",
   "execution_count": 364,
   "metadata": {
    "scrolled": true
   },
   "outputs": [
    {
     "name": "stdout",
     "output_type": "stream",
     "text": [
      "메타몽이(가) 프리져에게 모래 뿌리기를 했다..\n",
      "프리져의 체력이 0이 되었다..\n"
     ]
    },
    {
     "data": {
      "text/plain": [
       "'끄억, 프리져의 체력이 0이 되어 메타몽이(가) 승리하였다'"
      ]
     },
     "execution_count": 364,
     "metadata": {},
     "output_type": "execute_result"
    }
   ],
   "source": [
    "Pokemon.battle(freezer, metamong)"
   ]
  },
  {
   "cell_type": "code",
   "execution_count": 366,
   "metadata": {},
   "outputs": [],
   "source": [
    "a = [1, 2, 3]"
   ]
  },
  {
   "cell_type": "code",
   "execution_count": 367,
   "metadata": {},
   "outputs": [
    {
     "ename": "IndexError",
     "evalue": "list index out of range",
     "output_type": "error",
     "traceback": [
      "\u001b[1;31m---------------------------------------------------------------------------\u001b[0m",
      "\u001b[1;31mIndexError\u001b[0m                                Traceback (most recent call last)",
      "\u001b[1;32m<ipython-input-367-b6d50da39c7b>\u001b[0m in \u001b[0;36m<module>\u001b[1;34m\u001b[0m\n\u001b[1;32m----> 1\u001b[1;33m \u001b[0mprint\u001b[0m\u001b[1;33m(\u001b[0m\u001b[0ma\u001b[0m\u001b[1;33m[\u001b[0m\u001b[1;36m0\u001b[0m\u001b[1;33m]\u001b[0m\u001b[1;33m,\u001b[0m \u001b[0ma\u001b[0m\u001b[1;33m[\u001b[0m\u001b[1;36m1\u001b[0m\u001b[1;33m]\u001b[0m\u001b[1;33m,\u001b[0m \u001b[0ma\u001b[0m\u001b[1;33m[\u001b[0m\u001b[1;36m2\u001b[0m\u001b[1;33m]\u001b[0m\u001b[1;33m,\u001b[0m \u001b[0ma\u001b[0m\u001b[1;33m[\u001b[0m\u001b[1;36m3\u001b[0m\u001b[1;33m]\u001b[0m\u001b[1;33m,\u001b[0m \u001b[0ma\u001b[0m\u001b[1;33m[\u001b[0m\u001b[1;36m4\u001b[0m\u001b[1;33m]\u001b[0m\u001b[1;33m)\u001b[0m\u001b[1;33m\u001b[0m\u001b[1;33m\u001b[0m\u001b[0m\n\u001b[0m",
      "\u001b[1;31mIndexError\u001b[0m: list index out of range"
     ]
    }
   ],
   "source": [
    "print(a[0], a[1], a[2], a[3], a[4])"
   ]
  },
  {
   "cell_type": "code",
   "execution_count": 368,
   "metadata": {},
   "outputs": [
    {
     "name": "stdout",
     "output_type": "stream",
     "text": [
      "1 2 3 1 2\n"
     ]
    }
   ],
   "source": [
    "print(a[-len(a)], a[-(len(a)-1)], a[-(len(a)-2)], a[-(len(a)-3)], a[-(len(a)-4)])"
   ]
  }
 ],
 "metadata": {
  "kernelspec": {
   "display_name": "Python 3",
   "language": "python",
   "name": "python3"
  },
  "language_info": {
   "codemirror_mode": {
    "name": "ipython",
    "version": 3
   },
   "file_extension": ".py",
   "mimetype": "text/x-python",
   "name": "python",
   "nbconvert_exporter": "python",
   "pygments_lexer": "ipython3",
   "version": "3.6.7"
  },
  "latex_envs": {
   "LaTeX_envs_menu_present": true,
   "autoclose": false,
   "autocomplete": true,
   "bibliofile": "biblio.bib",
   "cite_by": "apalike",
   "current_citInitial": 1,
   "eqLabelWithNumbers": true,
   "eqNumInitial": 1,
   "hotkeys": {
    "equation": "Ctrl-E",
    "itemize": "Ctrl-I"
   },
   "labels_anchors": false,
   "latex_user_defs": false,
   "report_style_numbering": false,
   "user_envs_cfg": false
  },
  "toc": {
   "base_numbering": 1,
   "nav_menu": {},
   "number_sections": true,
   "sideBar": true,
   "skip_h1_title": false,
   "title_cell": "Table of Contents",
   "title_sidebar": "Contents",
   "toc_cell": false,
   "toc_position": {},
   "toc_section_display": true,
   "toc_window_display": false
  }
 },
 "nbformat": 4,
 "nbformat_minor": 2
}
