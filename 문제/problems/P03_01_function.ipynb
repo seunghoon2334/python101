{
 "cells": [
  {
   "cell_type": "markdown",
   "metadata": {},
   "source": [
    "# `abs(x)`\n",
    "\n",
    "> 절대값은 숫자(int, float)가 들어오면 절대값을 반환하고, 복소수(complex)가 들어오면 그 크기를 반환합니다.\n",
    "> \n",
    "> `my_abs(x)`를 만들어보세요."
   ]
  },
  {
   "cell_type": "markdown",
   "metadata": {},
   "source": [
    "**공식문서**\n",
    "<center>\n",
    "    <img src=\"./images/P01/abs0.png\", alt=\"\">\n",
    "</center>"
   ]
  },
  {
   "cell_type": "markdown",
   "metadata": {},
   "source": [
    "**복소수 크기 구하는법**\n",
    "<center>\n",
    "    <img src=\"./images/P01/abs.png\", alt=\"\">\n",
    "</center>"
   ]
  },
  {
   "cell_type": "code",
   "execution_count": null,
   "metadata": {},
   "outputs": [],
   "source": [
    "# 예제 입력 및 출력\n",
    "print(abs(3+4j), abs(-0.0), abs(-5))"
   ]
  },
  {
   "cell_type": "code",
   "execution_count": null,
   "metadata": {},
   "outputs": [],
   "source": [
    "# 아래에 코드를 작성해주세요.\n",
    "def my_abs(x):\n",
    "    # if type(x) != type({}):\n",
    "    if type(x) == complex:\n",
    "        return (x.real**2+x.imag**2)**0.5\n",
    "    elif x >= 0:\n",
    "        return (x**2)**0.5\n",
    "    else:\n",
    "        return -x"
   ]
  },
  {
   "cell_type": "code",
   "execution_count": null,
   "metadata": {
    "scrolled": true
   },
   "outputs": [],
   "source": [
    "# 해당 코드를 통해 5.0 0.0 5가 나오는지 확인하세요.\n",
    "print(my_abs(3+4j), my_abs(-0.0), my_abs(-5), my_abs(0.0))"
   ]
  },
  {
   "cell_type": "markdown",
   "metadata": {},
   "source": [
    "# `all(x)`\n",
    "\n",
    "> all은 인자로 받는 iterable(range, list)의 모든 요소가 참이거나 비어있으면 True를 반환합니다.\n",
    ">\n",
    "> 이와 같은 my_all(x)을 작성해보세요"
   ]
  },
  {
   "cell_type": "code",
   "execution_count": null,
   "metadata": {},
   "outputs": [],
   "source": [
    "# 예제 입력 및 출력\n",
    "print(all([1, 2, 5, '6']))\n",
    "print(all([[], 2, 5, '6']))"
   ]
  },
  {
   "cell_type": "code",
   "execution_count": null,
   "metadata": {},
   "outputs": [],
   "source": [
    "# 아래에 코드를 작성해주세요.\n",
    "def my_all(it):\n",
    "    cnt = 0\n",
    "    for i in it:\n",
    "        if i == [] or i == '':\n",
    "            cnt += 1\n",
    "        if cnt == 0 or cnt == len(it):\n",
    "            return True\n",
    "        else:\n",
    "            return False"
   ]
  },
  {
   "cell_type": "code",
   "execution_count": null,
   "metadata": {},
   "outputs": [],
   "source": [
    "# 해당 코드를 통해 True False가 나오는지 확인하세요.\n",
    "print(my_all([1, 2, 5, '6']))\n",
    "print(my_all([[], 2, 5, '6']))"
   ]
  },
  {
   "cell_type": "markdown",
   "metadata": {},
   "source": [
    "# `any(x)`\n",
    "\n",
    "> any는 인자로 받는 iterable(range, list)의 요소 중 하나라도 참이면 True를 반환하고, 비어있으면 False를 반환합니다.\n",
    ">\n",
    "> 이와 같은 my_any(x)를 작성해보세요."
   ]
  },
  {
   "cell_type": "code",
   "execution_count": null,
   "metadata": {},
   "outputs": [],
   "source": [
    "# 예제 입력 및 출력\n",
    "print(any([1, 2, 5, '6']))\n",
    "print(any([[], 2, 5, '6']))\n",
    "print(any([0]))"
   ]
  },
  {
   "cell_type": "code",
   "execution_count": null,
   "metadata": {},
   "outputs": [],
   "source": [
    "# 아래에 코드를 작성해주세요.\n",
    "def my_any(it):\n",
    "    for i in it:\n",
    "        if i:\n",
    "            return True\n",
    "    return False"
   ]
  },
  {
   "cell_type": "code",
   "execution_count": null,
   "metadata": {},
   "outputs": [],
   "source": [
    "def my_all(x):\n",
    "    for element in x:\n",
    "        if bool(x) == False:\n",
    "            return False\n",
    "    return True"
   ]
  },
  {
   "cell_type": "code",
   "execution_count": null,
   "metadata": {},
   "outputs": [],
   "source": [
    "# 해당 코드를 통해 True True False가 나오는지 확인하세요.\n",
    "print(my_any([1, 2, 5, '6']))\n",
    "print(my_any([[], 2, 5, '6']))\n",
    "print(my_any([0]))"
   ]
  },
  {
   "cell_type": "markdown",
   "metadata": {},
   "source": [
    "# `bin(x)` - 난이도 높음\n",
    "\n",
    "> `양의 정수`를 받아서 앞에 '0b'를 붙어 있는 2진수로 표현됩니다.\n",
    ">\n",
    "> 이와 같은 `my_bin(x)`를 작성해보세요.\n",
    "\n",
    "* 음수는 고려하지 않아도 됩니다."
   ]
  },
  {
   "cell_type": "markdown",
   "metadata": {},
   "source": [
    "<center>\n",
    "    <img src=\"./images/P01/bin.png\", alt=\"bin\">\n",
    "</center>"
   ]
  },
  {
   "cell_type": "code",
   "execution_count": null,
   "metadata": {},
   "outputs": [],
   "source": [
    "# bin 예제 입력 및 출력\n",
    "print(bin(4096), bin(5))"
   ]
  },
  {
   "cell_type": "code",
   "execution_count": 70,
   "metadata": {},
   "outputs": [],
   "source": [
    "'''\n",
    "2**i로 나누면서 i-=1 하나씩 출력출력\n",
    "'''\n",
    "def my_bin(x):\n",
    "    if type(x) != int or x<0:\n",
    "        return 'bye'\n",
    "    num = '0b'\n",
    "    if x == 0:\n",
    "        num += '0'\n",
    "        return num\n",
    "    for i in range(50):\n",
    "        if x//2**i == 1:\n",
    "            break\n",
    "    for n in range(i+1):\n",
    "        if x // (2**i) != 0 :\n",
    "            num += '1'\n",
    "            x %= 2**i\n",
    "            i -= 1\n",
    "        else:\n",
    "            num += '0'\n",
    "            i -= 1\n",
    "    return num"
   ]
  },
  {
   "cell_type": "code",
   "execution_count": 62,
   "metadata": {},
   "outputs": [],
   "source": [
    "def my_bin(x):\n",
    "    result = ''\n",
    "    if x == 0:\n",
    "        return '0b0'\n",
    "    while x >= 1:\n",
    "        q, r = divmod(x, 2)\n",
    "        result = str(r) + result\n",
    "        x //= 2\n",
    "    return '0b' + result"
   ]
  },
  {
   "cell_type": "code",
   "execution_count": 71,
   "metadata": {},
   "outputs": [
    {
     "name": "stdout",
     "output_type": "stream",
     "text": [
      "0b111001001\n",
      "0b111001010\n",
      "0b111001011\n",
      "0b111001100\n",
      "0b111001101\n",
      "0b111001110\n",
      "0b111001111\n",
      "0b111010000\n",
      "0b111010001\n",
      "bye\n",
      "0b0\n",
      "bye\n"
     ]
    }
   ],
   "source": [
    "print(my_bin(457))\n",
    "print(my_bin(458))\n",
    "print(my_bin(459))\n",
    "print(my_bin(460))\n",
    "print(my_bin(461))\n",
    "print(my_bin(462))\n",
    "print(my_bin(463))\n",
    "print(my_bin(464))\n",
    "print(my_bin(465))\n",
    "print(my_bin(565.2))\n",
    "print(my_bin(0))\n",
    "print(my_bin(-4))"
   ]
  },
  {
   "cell_type": "code",
   "execution_count": 44,
   "metadata": {},
   "outputs": [
    {
     "name": "stdout",
     "output_type": "stream",
     "text": [
      "0b1101\n",
      "0b1101\n",
      "True\n",
      "True\n"
     ]
    }
   ],
   "source": [
    "# my_bin 예제 입력 및 출력\n",
    "print(my_bin(13))\n",
    "print(bin(13))\n",
    "print(my_bin(4096) == bin(4096))\n",
    "print(my_bin(5) == bin(5))"
   ]
  }
 ],
 "metadata": {
  "kernelspec": {
   "display_name": "Python 3",
   "language": "python",
   "name": "python3"
  },
  "language_info": {
   "codemirror_mode": {
    "name": "ipython",
    "version": 3
   },
   "file_extension": ".py",
   "mimetype": "text/x-python",
   "name": "python",
   "nbconvert_exporter": "python",
   "pygments_lexer": "ipython3",
   "version": "3.6.7"
  },
  "toc": {
   "base_numbering": 1,
   "nav_menu": {},
   "number_sections": true,
   "sideBar": true,
   "skip_h1_title": false,
   "title_cell": "Table of Contents",
   "title_sidebar": "Contents",
   "toc_cell": false,
   "toc_position": {},
   "toc_section_display": true,
   "toc_window_display": false
  }
 },
 "nbformat": 4,
 "nbformat_minor": 2
}
