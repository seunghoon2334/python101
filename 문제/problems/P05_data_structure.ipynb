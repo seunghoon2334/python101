{
 "cells": [
  {
   "cell_type": "markdown",
   "metadata": {},
   "source": [
    "# 메소드 없는 세상 <1>\n",
    "\n",
    "> 알파벳으로 이뤄진 word를 입력받아 알파벳 대소문자를 서로 교환한 결과를 반환하는 `my_swapcase(word)`를 작성해주세요.\n",
    "\n",
    "**`.upper()`, `.lower()`, `swapcase()`는 사용하지 말아주세요.**\n",
    "\n",
    "**Tip! 문자와 숫자에는 특별한 관계가 있습니다. Google에서 아스키 코드를 참고하세요**\n"
   ]
  },
  {
   "cell_type": "code",
   "execution_count": 17,
   "metadata": {},
   "outputs": [],
   "source": [
    "# 아래에 코드를 작성해주세요.\n",
    "def my_swapcase(word):\n",
    "    new_word = ''\n",
    "    for i in range(len(word)):\n",
    "        if 97<=ord(word[i])<=122:\n",
    "            new_word += chr(ord(word[i])-32)\n",
    "        elif 65<=ord(word[i])<=90:\n",
    "            new_word += chr(ord(word[i])+32)\n",
    "        else:\n",
    "            new_word += word[i]\n",
    "    return new_word"
   ]
  },
  {
   "cell_type": "code",
   "execution_count": 18,
   "metadata": {},
   "outputs": [
    {
     "name": "stdout",
     "output_type": "stream",
     "text": [
      "HELLO, wORLD!\n",
      "@_@\n",
      "2^3은 8이다!\n"
     ]
    }
   ],
   "source": [
    "print(my_swapcase('hello, World!')) # HELLO, wORLD!\n",
    "print(my_swapcase('@_@')) # @_@\n",
    "print(my_swapcase('2^3은 8이다!')) #2^3은 8이다!"
   ]
  },
  {
   "cell_type": "markdown",
   "metadata": {},
   "source": [
    "# 메소드 없는 세상 <2>\n",
    "\n",
    "> 우리는 문자열을 만들어 나갈 때, `.join(iterable)` 함수를 사용합니다. \n",
    ">\n",
    "> `.join(iterable)`이 생각나지 않을 때를 위해 직접 만들어보면서 감사함을 느껴봅시다.\n",
    ">\n",
    "> `my_join(target, word)`를 만들어 문자열을 반환해주세요.\n",
    ">\n",
    "> target은 바꿀 대상(iterable)이며, word는 합쳐지는 단어입니다. \n",
    "\n",
    "---\n",
    "\n",
    "```\n",
    "예시)\n",
    "''.join(a) 와 my_join(a, '')은 같은 함수 호출입니다.\n",
    "\n",
    "print(my_join('배고파', '.'))\n",
    "print(my_join(['1', '2', '3'], ''))\n",
    "\n",
    "배.고.파\n",
    "123\n",
    "```"
   ]
  },
  {
   "cell_type": "code",
   "execution_count": 25,
   "metadata": {},
   "outputs": [],
   "source": [
    "# 아래에 코드를 작성해주세요.\n",
    "def my_join(target, word):\n",
    "    result = ''\n",
    "    for i in range(len(target)):\n",
    "        if i != len(target)-1:\n",
    "            result += (target[i] + word)\n",
    "        else:\n",
    "            result += target[i]\n",
    "    return result"
   ]
  },
  {
   "cell_type": "code",
   "execution_count": 26,
   "metadata": {},
   "outputs": [
    {
     "name": "stdout",
     "output_type": "stream",
     "text": [
      "배.고.파\n",
      "123\n"
     ]
    }
   ],
   "source": [
    "print(my_join('배고파', '.'))\n",
    "print(my_join(['1', '2', '3'], ''))"
   ]
  },
  {
   "cell_type": "markdown",
   "metadata": {},
   "source": [
    "#  가능한 적게 변경하기\n",
    "\n",
    "> 대문자와 소문자가 혼합되어 있는 문자열어 주어지며\n",
    ">\n",
    "> 다음의 기준에 따라서 문자열을 소문자 혹은 대문자로 변환하세요.\n",
    "\n",
    "\n",
    "*  가능한 적게 변경하세요.\n",
    "*  만약에 문자열의 대문자 혹은 소문자가 같다면, 문자열을 소문자로 변경하세요.\n",
    "\n",
    "--- \n",
    "\n",
    "```\n",
    "예시 입력) \n",
    "solve(\"coDe\")\n",
    "solve(\"CODe\")\n",
    "solve(\"coDE\")\n",
    "\n",
    "예시 출력)\n",
    "\"code\"\n",
    "\"CODE\"\n",
    "\"code\"\n",
    "```"
   ]
  },
  {
   "cell_type": "code",
   "execution_count": 234,
   "metadata": {},
   "outputs": [],
   "source": [
    "# 아래에 코드를 작성해주세요.\n",
    "def solve(string):\n",
    "    cnt1 = 0\n",
    "    cnt2 = 0\n",
    "    for i in string:\n",
    "        if 97<=ord(i)<=122:\n",
    "            cnt1 += 1\n",
    "        elif 65<=ord(i)<=90:\n",
    "            cnt2 += 1\n",
    "    if cnt1>=cnt2:\n",
    "        string = string.lower()\n",
    "    else:\n",
    "        string = string.upper()\n",
    "    return string"
   ]
  },
  {
   "cell_type": "code",
   "execution_count": 289,
   "metadata": {},
   "outputs": [],
   "source": [
    "def solve(word):\n",
    "    cnt = sum(1 for x in word if x.isupper())\n",
    "    if cnt > (len(word) / 2) :\n",
    "        return word.upper()\n",
    "    else :\n",
    "        return word.lower()"
   ]
  },
  {
   "cell_type": "code",
   "execution_count": 290,
   "metadata": {},
   "outputs": [
    {
     "data": {
      "text/plain": [
       "'code'"
      ]
     },
     "execution_count": 290,
     "metadata": {},
     "output_type": "execute_result"
    }
   ],
   "source": [
    "solve(\"coDe\")"
   ]
  },
  {
   "cell_type": "code",
   "execution_count": 229,
   "metadata": {},
   "outputs": [
    {
     "data": {
      "text/plain": [
       "'CODE'"
      ]
     },
     "execution_count": 229,
     "metadata": {},
     "output_type": "execute_result"
    }
   ],
   "source": [
    "solve(\"CODe\")"
   ]
  },
  {
   "cell_type": "code",
   "execution_count": 230,
   "metadata": {},
   "outputs": [
    {
     "data": {
      "text/plain": [
       "'code'"
      ]
     },
     "execution_count": 230,
     "metadata": {},
     "output_type": "execute_result"
    }
   ],
   "source": [
    "solve(\"coDE\")"
   ]
  },
  {
   "cell_type": "markdown",
   "metadata": {},
   "source": [
    "# 숨바꼭질\n",
    "\n",
    "> 숫자가 주어지면, 사용되지 않은 숫자를 프린트하세요.\n",
    "\n",
    "---\n",
    "\n",
    "```\n",
    "예시)\n",
    "unused_digits(12, 34, 56, 78) \n",
    "\"09\"\n",
    "\n",
    "unused_digits(2015, 8, 26) \n",
    "\"3479\"\n",
    "```\n",
    "\n",
    "\n",
    "**결과값은 정렬되어야 합니다.**\n",
    "\n"
   ]
  },
  {
   "cell_type": "code",
   "execution_count": 239,
   "metadata": {},
   "outputs": [],
   "source": [
    "# 아래에 코드를 작성해주세요.\n",
    "def unused_digits(*numbers):\n",
    "    number = '0123456789'\n",
    "    numbers = str(numbers)\n",
    "    string = ''\n",
    "    result = '\"'\n",
    "    for i in numbers:\n",
    "        string += i\n",
    "    for ii in number:\n",
    "        if ii not in string:\n",
    "            result += ii\n",
    "    result += '\"'\n",
    "    if result == '\"\"':\n",
    "        return None\n",
    "    return result"
   ]
  },
  {
   "cell_type": "code",
   "execution_count": 294,
   "metadata": {},
   "outputs": [],
   "source": [
    "def unused_digits(*numbers):\n",
    "    result = set('0123456789')\n",
    "    for x in numbers:\n",
    "        result -= set(str(x))\n",
    "    return ''.join(sorted(result))"
   ]
  },
  {
   "cell_type": "code",
   "execution_count": 295,
   "metadata": {},
   "outputs": [
    {
     "name": "stdout",
     "output_type": "stream",
     "text": [
      "09\n",
      "3479\n",
      "\n"
     ]
    }
   ],
   "source": [
    "print(unused_digits(12, 34, 56, 78))\n",
    "print(unused_digits(2015, 8, 26))\n",
    "print(unused_digits(2015, 8, 26, 345, 7, 9))"
   ]
  },
  {
   "cell_type": "markdown",
   "metadata": {},
   "source": [
    "# 짝홀짝홀"
   ]
  },
  {
   "cell_type": "markdown",
   "metadata": {},
   "source": [
    "> n개의 양의 정수 리스트가 주어지면, 홀수와 짝수를 분리하고 각각의 조건에 맞게 홀수와 짝수를 \n",
    "정렬하세요.\n",
    "\n",
    "> 조건\n",
    "1. 짝수와 홀수가 번갈아 가면서 나오게 됩니다.\n",
    "2. 짝수가 먼저 나옵니다.\n",
    "3. 짝수는 오름차순으로 홀수는 내림차순으로 되어야합니다.\n",
    "\n",
    "> 인자 조건\n",
    "1. 인자 리스트의 크기는 적어도 4이상입니다.\n",
    "2. 인자 리스트의 요소값으로 0은 존재하지 않습니다.\n",
    "3. 인자 리스트의 요소값이 반복될 수 있으나 출력할 때는 중복 값이 없습니다.\n",
    "\n",
    "```\n",
    "결과) \n",
    "\n",
    "even_and_odd([7, 3 , 14 , 17])\n",
    "[14, 17, 7, 3]\n",
    "\n",
    "even_and_odd([1, 3, 5, 7, 9, 11])\n",
    "[11, 9, 7, 5, 3, 1]\n",
    "\n",
    "print(even_and_odd([1, 2, 2, 4, 4, 6, 6, 2004, 9, 11]))\n",
    "[2, 11, 4, 9, 6, 1, 2004]\n",
    "```"
   ]
  },
  {
   "cell_type": "code",
   "execution_count": 191,
   "metadata": {},
   "outputs": [],
   "source": [
    "# 여기에 코드를 작성하세요\n",
    "def even_and_odd(string):\n",
    "    even_string = []\n",
    "    odd_string = []\n",
    "    string = list(set(string))\n",
    "    result = []\n",
    "    for i in range(len(string)):\n",
    "        if string[i] % 2 == 0 :\n",
    "            even_string.append(string[i])\n",
    "        else :\n",
    "            odd_string.append(string[i])\n",
    "    even_string.sort()\n",
    "    odd_string.sort(reverse=True)\n",
    "    min_cnt = min(len(even_string), len(odd_string))\n",
    "    max_cnt = max(len(even_string), len(odd_string))\n",
    "    for ii in range(min_cnt):\n",
    "        result.append(even_string[ii])\n",
    "        result.append(odd_string[ii])\n",
    "    for iii in range(min_cnt, max_cnt, 1):\n",
    "        if len(even_string)<len(odd_string) :\n",
    "            result.append(odd_string[iii])\n",
    "        else :\n",
    "            result.append(even_string[iii])\n",
    "    return result"
   ]
  },
  {
   "cell_type": "code",
   "execution_count": 246,
   "metadata": {},
   "outputs": [],
   "source": [
    "# 여기에 코드를 작성하세요\n",
    "def even_and_odd(string):\n",
    "    even_string = []\n",
    "    odd_string = []\n",
    "    string = list(set(string))\n",
    "    result = []\n",
    "    for i in string:\n",
    "        if i % 2 == 0 :\n",
    "            even_string.append(i)\n",
    "        else :\n",
    "            odd_string.append(i)\n",
    "    even_string.sort()\n",
    "    odd_string.sort(reverse=True)\n",
    "    min_cnt = min(len(even_string), len(odd_string))\n",
    "    max_cnt = max(len(even_string), len(odd_string))\n",
    "    for ii in range(min_cnt):\n",
    "        result.append(even_string[ii])\n",
    "        result.append(odd_string[ii])\n",
    "    for iii in range(min_cnt, max_cnt, 1):\n",
    "        if len(even_string) < len(odd_string) :\n",
    "            result.append(odd_string[iii])\n",
    "        else :\n",
    "            result.append(even_string[iii])\n",
    "    return result\n",
    "        "
   ]
  },
  {
   "cell_type": "code",
   "execution_count": 298,
   "metadata": {},
   "outputs": [],
   "source": [
    "def even_and_odd(numbers):\n",
    "    even = [i for i in sorted(set(numbers)) if not i % 2]\n",
    "    odd = [i for i in sorted(set(numbers)) if i % 2][::-1]\n",
    "    \n",
    "    if len(even) > len(odd) :\n",
    "        tmp = even[len(odd):]\n",
    "        even = even[:len(odd)]\n",
    "    else :\n",
    "        tmp = odd[len(even):]\n",
    "        odd = odd[:len(even)]\n",
    "        \n",
    "    result = []\n",
    "    \n",
    "    for x, y in zip(even, odd):\n",
    "        result.append(x)\n",
    "        result.append(y)\n",
    "        \n",
    "    return result + tmp"
   ]
  },
  {
   "cell_type": "code",
   "execution_count": 299,
   "metadata": {},
   "outputs": [
    {
     "name": "stdout",
     "output_type": "stream",
     "text": [
      "[14, 17, 7, 3]\n",
      "[11, 9, 7, 5, 3, 1]\n",
      "[2, 11, 4, 9, 6, 1, 2004]\n"
     ]
    }
   ],
   "source": [
    "print(even_and_odd([7, 3, 14, 17]))\n",
    "print(even_and_odd([1, 3, 5, 7, 9, 11]))\n",
    "print(even_and_odd([1, 2, 2, 4, 4, 6, 6, 2004, 9, 11]))"
   ]
  },
  {
   "cell_type": "markdown",
   "metadata": {},
   "source": [
    "# 문자열 계산하기\n",
    "\n",
    "> 아래와 같이 문자열이 주어졌을 때, 바보같은 사용자를 위해 계산을 해주려고 한다.\n",
    ">\n",
    "> 이 계산기는 더하기와 빼기밖에 못한다.\n",
    ">\n",
    "> `calc(equation)`을 만들어봅시다.\n",
    "\n",
    "---\n",
    "\n",
    "```\n",
    "예시\n",
    "calc('123+2-124')\n",
    "1\n",
    "calc('-12+12-7979+9191')\n",
    "1212\n",
    "calc('+1-1+1-1+1-1+1-1+1-1+1-1+1-1+1-1+1-1+1-1+1-1+1-1+1-1+1-1+1-1+1-1')\n",
    "0\n",
    "```"
   ]
  },
  {
   "cell_type": "code",
   "execution_count": 217,
   "metadata": {},
   "outputs": [],
   "source": [
    "# 여기에 코드를 작성하세요\n",
    "def calc(equation):\n",
    "    result = 0\n",
    "    string = '0'\n",
    "    for i in range(len(equation)):\n",
    "        if equation[i] == '+':\n",
    "            result += int(string)\n",
    "            string = '+'\n",
    "        elif equation[i] == '-':\n",
    "            result += int(string)\n",
    "            string = '-'\n",
    "        else: \n",
    "            string += equation[i]\n",
    "    result += int(string)\n",
    "    return result"
   ]
  },
  {
   "cell_type": "code",
   "execution_count": 256,
   "metadata": {},
   "outputs": [],
   "source": [
    "def calc(equation):\n",
    "    result = 0\n",
    "    string = '0'\n",
    "    for i in equation:\n",
    "        if i == '+':\n",
    "            result += int(string)\n",
    "            string = '+'\n",
    "        elif i == '-':\n",
    "            result += int(string)\n",
    "            string = '-'\n",
    "        else: \n",
    "            string += i\n",
    "    result += int(string)\n",
    "    return result"
   ]
  },
  {
   "cell_type": "code",
   "execution_count": 287,
   "metadata": {},
   "outputs": [],
   "source": [
    "def calc(equation):\n",
    "    tmp = ['+', '-']\n",
    "    result = 0\n",
    "    string = '0'\n",
    "    for i in equation:\n",
    "        if i in tmp:\n",
    "            result += int(string)\n",
    "            string = i\n",
    "        else: \n",
    "            string += i\n",
    "    result += int(string)\n",
    "    return result"
   ]
  },
  {
   "cell_type": "code",
   "execution_count": 314,
   "metadata": {},
   "outputs": [],
   "source": [
    "def calc(equation):\n",
    "    tmp = ''\n",
    "    result = 0\n",
    "    for char in equation:\n",
    "        if tmp and not char.isdecimal():\n",
    "            result += int(tmp)\n",
    "            tmp = ''\n",
    "        tmp += char\n",
    "    return result + int(tmp)"
   ]
  },
  {
   "cell_type": "code",
   "execution_count": 304,
   "metadata": {},
   "outputs": [],
   "source": [
    "def calc(equation):\n",
    "    equation = equation.replace('+', ' +')\n",
    "    equation = equation.replace('-', ' -')\n",
    "    num = map(int, equation.split())\n",
    "    return sum(num)"
   ]
  },
  {
   "cell_type": "code",
   "execution_count": 315,
   "metadata": {
    "scrolled": false
   },
   "outputs": [
    {
     "name": "stdout",
     "output_type": "stream",
     "text": [
      "1\n",
      "1212\n",
      "0\n"
     ]
    }
   ],
   "source": [
    "print(calc('123+2-124'))\n",
    "print(calc('-12+12-7979+9191'))\n",
    "print(calc('+1-1+1-1+1-1+1-1+1-1+1-1+1-1+1-1+1-1+1-1+1-1+1-1+1-1+1-1+1-1+1-1'))"
   ]
  }
 ],
 "metadata": {
  "kernelspec": {
   "display_name": "Python 3",
   "language": "python",
   "name": "python3"
  },
  "language_info": {
   "codemirror_mode": {
    "name": "ipython",
    "version": 3
   },
   "file_extension": ".py",
   "mimetype": "text/x-python",
   "name": "python",
   "nbconvert_exporter": "python",
   "pygments_lexer": "ipython3",
   "version": "3.6.7"
  },
  "latex_envs": {
   "LaTeX_envs_menu_present": true,
   "autoclose": false,
   "autocomplete": true,
   "bibliofile": "biblio.bib",
   "cite_by": "apalike",
   "current_citInitial": 1,
   "eqLabelWithNumbers": true,
   "eqNumInitial": 1,
   "hotkeys": {
    "equation": "Ctrl-E",
    "itemize": "Ctrl-I"
   },
   "labels_anchors": false,
   "latex_user_defs": false,
   "report_style_numbering": false,
   "user_envs_cfg": false
  },
  "toc": {
   "base_numbering": 1,
   "nav_menu": {},
   "number_sections": true,
   "sideBar": true,
   "skip_h1_title": false,
   "title_cell": "Table of Contents",
   "title_sidebar": "Contents",
   "toc_cell": false,
   "toc_position": {},
   "toc_section_display": true,
   "toc_window_display": false
  }
 },
 "nbformat": 4,
 "nbformat_minor": 2
}
