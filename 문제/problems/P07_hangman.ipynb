{
 "cells": [
  {
   "cell_type": "markdown",
   "metadata": {},
   "source": [
    "# 행맨 게임 만들기 "
   ]
  },
  {
   "cell_type": "markdown",
   "metadata": {},
   "source": [
    "## 답안 확인 하기\n",
    "\n",
    "> 행맨 게임을 위한 코드를 작성해봅시다. \n",
    ">\n",
    "> `isanswer(secret, letters)`는 정답(answer)과 추측 알파벳의 리스트(letters)를 받아서, True/False 결과를 나타냅니다.\n",
    "\n",
    "```\n",
    "예시) \n",
    "isanswer('apple', ['a', 'p', 'l'])\n",
    "\n",
    "False\n",
    "```"
   ]
  },
  {
   "cell_type": "code",
   "execution_count": 2,
   "metadata": {
    "scrolled": true
   },
   "outputs": [],
   "source": [
    "# 여기에 코드를 작성해주세요\n",
    "def isanswer(secret, letters):\n",
    "    word = []\n",
    "    for i in secret:\n",
    "        word.append(i)\n",
    "    word = list(set(word))\n",
    "    for i in letters:\n",
    "        if i in word:\n",
    "            word.remove(i)\n",
    "        else: \n",
    "            return False\n",
    "    return False if word != [] else True"
   ]
  },
  {
   "cell_type": "code",
   "execution_count": 4,
   "metadata": {},
   "outputs": [],
   "source": [
    "def isanswer(secret, letters):\n",
    "    return not (set(secret) - set(letters))"
   ]
  },
  {
   "cell_type": "code",
   "execution_count": 5,
   "metadata": {},
   "outputs": [
    {
     "data": {
      "text/plain": [
       "False"
      ]
     },
     "execution_count": 5,
     "metadata": {},
     "output_type": "execute_result"
    }
   ],
   "source": [
    "isanswer('apple', ['a', 'p', 'l'])"
   ]
  },
  {
   "cell_type": "markdown",
   "metadata": {},
   "source": [
    "## 현재 상태 출력하기\n",
    "\n",
    "> 행맨 게임을 위한 코드를 작성해봅시다. \n",
    ">\n",
    "> `status(answer, letters)`는 정답(answer)과 추측 알파벳의 리스트(letters)를 받아서, 현재 결과를 나타냅니다.\n",
    "\n",
    "```\n",
    "예시)\n",
    "status('apple', ['a', 'p', 'l'])\n",
    "\n",
    "'appl_'\n",
    "```"
   ]
  },
  {
   "cell_type": "code",
   "execution_count": 16,
   "metadata": {},
   "outputs": [],
   "source": [
    "# 여기에 코드를 작성해주세요\n",
    "def status(answer, letters):\n",
    "    result1 = []\n",
    "    result2 = []\n",
    "    for cnt in answer:\n",
    "        result1.append(cnt)\n",
    "    for i in answer:\n",
    "        result2.append('_')\n",
    "    for ii in letters: \n",
    "        if ii in answer: \n",
    "            for iii in range(len(result1)): \n",
    "                if ii == result1[iii]:\n",
    "                    result2[iii] = ii\n",
    "    return (' '.join(result2)).replace(' ','')"
   ]
  },
  {
   "cell_type": "code",
   "execution_count": 10,
   "metadata": {},
   "outputs": [],
   "source": [
    "def status(answer, letters):\n",
    "    for char in answer:\n",
    "        if char not in letters:\n",
    "            answer = answer.replace(char, '_')\n",
    "    return answer"
   ]
  },
  {
   "cell_type": "code",
   "execution_count": 11,
   "metadata": {},
   "outputs": [
    {
     "data": {
      "text/plain": [
       "'appl_'"
      ]
     },
     "execution_count": 11,
     "metadata": {},
     "output_type": "execute_result"
    }
   ],
   "source": [
    "status('apple', ['a', 'p', 'l'])"
   ]
  },
  {
   "cell_type": "markdown",
   "metadata": {},
   "source": [
    "## 행맨 로직 만들기 - 자유코딩!\n",
    "\n",
    "> 위의 함수를 활용하여 `hangman(answer)`를 만들어봅시다!\n",
    ">\n",
    "> 사용자가 답을 맞출 때까지 진행하며, 8번내로 정답을 맞춰야 합니다.\n",
    "\n",
    "추가적인 함수를 만들어도 좋습니다! 완성하신 분들은 옆사람이랑 게임을 진행해봅시다 :)"
   ]
  },
  {
   "cell_type": "code",
   "execution_count": 12,
   "metadata": {},
   "outputs": [
    {
     "name": "stdout",
     "output_type": "stream",
     "text": [
      "남은 시도 : 8\n",
      "       _____        \n",
      "알파벳을 입력하세요 :a\n",
      "1\n",
      "1개 있어요.\n",
      "========================\n",
      "남은 시도 : 7\n",
      "       a____        \n",
      "알파벳을 입력하세요 :p\n",
      "1\n",
      "2개 있어요.\n",
      "========================\n",
      "남은 시도 : 6\n",
      "       app__        \n",
      "알파벳을 입력하세요 :p\n",
      "2\n",
      "ㄹㄹ\n",
      "남은 시도 : 6\n",
      "       app__        \n",
      "알파벳을 입력하세요 :l\n",
      "1\n",
      "1개 있어요.\n",
      "========================\n",
      "남은 시도 : 5\n",
      "       appl_        \n",
      "알파벳을 입력하세요 :e\n",
      "1\n",
      "1개 있어요.\n",
      "정답 apple\n"
     ]
    }
   ],
   "source": [
    "# 여기에 코드를 작성해주세요\n",
    "def hangman(answer):\n",
    "    letters = []\n",
    "    attempt = 8\n",
    "    input_answer = []\n",
    "    while True:\n",
    "        print(f'남은 시도 : {attempt}')\n",
    "        print(f'{status(answer, letters):^20}')\n",
    "        char = input('알파벳을 입력하세요 :')\n",
    "        input_answer.append(char)\n",
    "        print(input_answer.count(char))\n",
    "        if input_answer.count(char) > 1:\n",
    "            print('ㄹㄹ')\n",
    "            continue\n",
    "        if not char.isalpha() or len(char) != 1:\n",
    "            print('알파벳을 입력하세요.')\n",
    "            continue\n",
    "            \n",
    "        letters.append(char)\n",
    "        if char in answer:\n",
    "            print(f'{answer.count(char)}개 있어요.')\n",
    "        else :\n",
    "            print('틀렸어요.')\n",
    "            \n",
    "        if isanswer(answer, letters):\n",
    "            print('정답', answer)\n",
    "            return None\n",
    "                  \n",
    "        attempt -= 1\n",
    "        \n",
    "        if attempt == 0:\n",
    "            return 'ㅈㅈ'\n",
    "        print('========================')\n",
    "if __name__ == '__main__':\n",
    "        hangman('apple')"
   ]
  },
  {
   "cell_type": "code",
   "execution_count": 18,
   "metadata": {},
   "outputs": [
    {
     "name": "stdout",
     "output_type": "stream",
     "text": [
      "남은 시도 : 8\n",
      "      ________      \n",
      "알파벳을 입력하세요 :a\n",
      "1\n",
      "2개 있어요.\n",
      "========================\n",
      "남은 시도 : 7\n",
      "      a____a__      \n",
      "알파벳을 입력하세요 :s\n",
      "1\n",
      "2개 있어요.\n",
      "========================\n",
      "남은 시도 : 6\n",
      "      a_s_sa__      \n",
      "알파벳을 입력하세요 :d\n",
      "1\n",
      "2개 있어요.\n",
      "========================\n",
      "남은 시도 : 5\n",
      "      ads_sad_      \n",
      "알파벳을 입력하세요 :p\n",
      "1\n",
      "틀렸어요.\n",
      "========================\n",
      "남은 시도 : 4\n",
      "      ads_sad_      \n",
      "알파벳을 입력하세요 :;\n",
      "1\n",
      "알파벳을 입력하세요.\n",
      "남은 시도 : 4\n",
      "      ads_sad_      \n",
      "알파벳을 입력하세요 :l\n",
      "1\n",
      "틀렸어요.\n",
      "========================\n",
      "남은 시도 : 3\n",
      "      ads_sad_      \n",
      "알파벳을 입력하세요 :e\n",
      "1\n",
      "틀렸어요.\n",
      "========================\n",
      "남은 시도 : 2\n",
      "      ads_sad_      \n",
      "알파벳을 입력하세요 :f\n",
      "1\n",
      "2개 있어요.\n",
      "정답 adsfsadf\n"
     ]
    }
   ],
   "source": [
    "def hangman(answer):\n",
    "    letters = []\n",
    "    attempt = 8\n",
    "    input_answer = []\n",
    "    while True:\n",
    "        print(f'남은 시도 : {attempt}')\n",
    "        print(f'{status(answer, letters):^20}')\n",
    "        char = input('알파벳을 입력하세요 :')\n",
    "        input_answer.append(char)\n",
    "        print(input_answer.count(char))\n",
    "        if input_answer.count(char) > 1:\n",
    "            print('ㄹㄹ')\n",
    "            continue\n",
    "        if not char.isalpha() or len(char) != 1:\n",
    "            print('알파벳을 입력하세요.')\n",
    "            continue\n",
    "            \n",
    "        letters.append(char)\n",
    "        if char in answer:\n",
    "            print(f'{answer.count(char)}개 있어요.')\n",
    "        else :\n",
    "            print('틀렸어요.')\n",
    "            \n",
    "        if isanswer(answer, letters):\n",
    "            print('정답', answer)\n",
    "            return None\n",
    "                  \n",
    "        attempt -= 1\n",
    "        \n",
    "        if attempt == 0:\n",
    "            return 'ㅈㅈ'\n",
    "        print('========================')\n",
    "    \n",
    "def status(answer, letters):\n",
    "    for char in answer:\n",
    "        if char not in letters:\n",
    "            answer = answer.replace(char, '_')\n",
    "    return answer\n",
    "        \n",
    "def isanswer(answer, letters):\n",
    "        return not (set(answer)-set(letters))\n",
    "        \n",
    "if __name__ == '__main__':\n",
    "        hangman('apple')"
   ]
  },
  {
   "cell_type": "code",
   "execution_count": 19,
   "metadata": {},
   "outputs": [
    {
     "name": "stdout",
     "output_type": "stream",
     "text": [
      "남은 시도 : 8\n",
      "       _____        \n",
      "알파벳을 입력하세요 :a\n",
      "1\n",
      "1개 있어요.\n",
      "========================\n",
      "남은 시도 : 7\n",
      "       a____        \n",
      "알파벳을 입력하세요 :s\n",
      "1\n",
      "틀렸어요.\n",
      "========================\n",
      "남은 시도 : 6\n",
      "       a____        \n",
      "알파벳을 입력하세요 :p\n",
      "1\n",
      "2개 있어요.\n",
      "========================\n",
      "남은 시도 : 5\n",
      "       app__        \n",
      "알파벳을 입력하세요 :\n",
      "1\n",
      "알파벳을 입력하세요.\n",
      "남은 시도 : 5\n",
      "       app__        \n",
      "알파벳을 입력하세요 :l\n",
      "1\n",
      "1개 있어요.\n",
      "========================\n",
      "남은 시도 : 4\n",
      "       appl_        \n",
      "알파벳을 입력하세요 :e\n",
      "1\n",
      "1개 있어요.\n",
      "정답 apple\n"
     ]
    }
   ],
   "source": [
    "# 행맨 게임을 시작해봅시다!\n",
    "hangman('apple')"
   ]
  }
 ],
 "metadata": {
  "kernelspec": {
   "display_name": "Python 3",
   "language": "python",
   "name": "python3"
  },
  "language_info": {
   "codemirror_mode": {
    "name": "ipython",
    "version": 3
   },
   "file_extension": ".py",
   "mimetype": "text/x-python",
   "name": "python",
   "nbconvert_exporter": "python",
   "pygments_lexer": "ipython3",
   "version": "3.6.7"
  },
  "latex_envs": {
   "LaTeX_envs_menu_present": true,
   "autoclose": false,
   "autocomplete": true,
   "bibliofile": "biblio.bib",
   "cite_by": "apalike",
   "current_citInitial": 1,
   "eqLabelWithNumbers": true,
   "eqNumInitial": 1,
   "hotkeys": {
    "equation": "Ctrl-E",
    "itemize": "Ctrl-I"
   },
   "labels_anchors": false,
   "latex_user_defs": false,
   "report_style_numbering": false,
   "user_envs_cfg": false
  },
  "toc": {
   "base_numbering": 1,
   "nav_menu": {},
   "number_sections": true,
   "sideBar": true,
   "skip_h1_title": false,
   "title_cell": "Table of Contents",
   "title_sidebar": "Contents",
   "toc_cell": false,
   "toc_position": {},
   "toc_section_display": true,
   "toc_window_display": false
  }
 },
 "nbformat": 4,
 "nbformat_minor": 2
}
