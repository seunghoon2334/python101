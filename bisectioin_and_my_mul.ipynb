{
 "cells": [
  {
   "cell_type": "code",
   "execution_count": 22,
   "metadata": {},
   "outputs": [],
   "source": [
    "def bisection(num, cnt):\n",
    "    a = 0\n",
    "    b = 0\n",
    "    for i in range(0, num+1, 1): #a**2 < num < b**2\n",
    "        a = i\n",
    "        b = i+1\n",
    "        if a**2 < num < b**2 :\n",
    "            break\n",
    "    for i in range(cnt):\n",
    "        c = (a + b) / 2\n",
    "        if c**2 >= num :\n",
    "            b = c\n",
    "        else :\n",
    "            a = c\n",
    "    return f'{a} < {num**0.5} < {b}'\n",
    "        "
   ]
  },
  {
   "cell_type": "code",
   "execution_count": 35,
   "metadata": {},
   "outputs": [],
   "source": [
    "def bisection(num):\n",
    "    a = 0\n",
    "    b = 0\n",
    "    for i in range(0, num+1, 1): #a**2 < num < b**2\n",
    "        a = i\n",
    "        b = i+1\n",
    "        if a**2 < num < b**2 :\n",
    "            break\n",
    "    while True:\n",
    "        c = (a + b) / 2\n",
    "        if c**2 >= num :\n",
    "            b = c\n",
    "        else :\n",
    "            a = c\n",
    "        if abs(b**2-num) <= 1e-10 and abs(num-a**2) <= 1e-10:\n",
    "            break\n",
    "    return f'{a} < {num**0.5} < {b}'"
   ]
  },
  {
   "cell_type": "code",
   "execution_count": 5,
   "metadata": {},
   "outputs": [],
   "source": [
    "def my_sqrt(n):\n",
    "    x, y = 1, n\n",
    "    answer = 0\n",
    "    \n",
    "    while True:\n",
    "        answer = (x + y) / 2\n",
    "        if answer**2 < n:\n",
    "            x = answer\n",
    "        else:\n",
    "            y = answer\n",
    "        if abs(answer**2 - n) < 1e-5:\n",
    "            return answer"
   ]
  },
  {
   "cell_type": "code",
   "execution_count": 6,
   "metadata": {},
   "outputs": [
    {
     "data": {
      "text/plain": [
       "1.414215087890625"
      ]
     },
     "execution_count": 6,
     "metadata": {},
     "output_type": "execute_result"
    }
   ],
   "source": [
    "my_sqrt(2)"
   ]
  },
  {
   "cell_type": "code",
   "execution_count": 23,
   "metadata": {},
   "outputs": [
    {
     "data": {
      "text/plain": [
       "'1.414213562373095 < 1.4142135623730951 < 1.4142135623730951'"
      ]
     },
     "execution_count": 23,
     "metadata": {},
     "output_type": "execute_result"
    }
   ],
   "source": [
    "bisection(2, 1000)"
   ]
  },
  {
   "cell_type": "code",
   "execution_count": 37,
   "metadata": {},
   "outputs": [
    {
     "data": {
      "text/plain": [
       "'1.414213562355144 < 1.4142135623730951 < 1.4142135623842478'"
      ]
     },
     "execution_count": 37,
     "metadata": {},
     "output_type": "execute_result"
    }
   ],
   "source": [
    "bisection(2)"
   ]
  },
  {
   "cell_type": "code",
   "execution_count": 28,
   "metadata": {},
   "outputs": [],
   "source": [
    "def my_mul(*number):\n",
    "    result = 1\n",
    "    for i in number:\n",
    "        result *= i\n",
    "    return result"
   ]
  },
  {
   "cell_type": "code",
   "execution_count": 29,
   "metadata": {},
   "outputs": [
    {
     "data": {
      "text/plain": [
       "6"
      ]
     },
     "execution_count": 29,
     "metadata": {},
     "output_type": "execute_result"
    }
   ],
   "source": [
    "my_mul(6)"
   ]
  },
  {
   "cell_type": "code",
   "execution_count": 30,
   "metadata": {
    "scrolled": true
   },
   "outputs": [
    {
     "data": {
      "text/plain": [
       "15"
      ]
     },
     "execution_count": 30,
     "metadata": {},
     "output_type": "execute_result"
    }
   ],
   "source": [
    "my_mul(3, 5)"
   ]
  }
 ],
 "metadata": {
  "kernelspec": {
   "display_name": "Python 3",
   "language": "python",
   "name": "python3"
  },
  "language_info": {
   "codemirror_mode": {
    "name": "ipython",
    "version": 3
   },
   "file_extension": ".py",
   "mimetype": "text/x-python",
   "name": "python",
   "nbconvert_exporter": "python",
   "pygments_lexer": "ipython3",
   "version": "3.6.7"
  },
  "toc": {
   "base_numbering": 1,
   "nav_menu": {},
   "number_sections": true,
   "sideBar": true,
   "skip_h1_title": false,
   "title_cell": "Table of Contents",
   "title_sidebar": "Contents",
   "toc_cell": false,
   "toc_position": {},
   "toc_section_display": true,
   "toc_window_display": false
  }
 },
 "nbformat": 4,
 "nbformat_minor": 2
}
