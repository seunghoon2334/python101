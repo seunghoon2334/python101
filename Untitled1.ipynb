{
 "cells": [
  {
   "cell_type": "code",
   "execution_count": null,
   "metadata": {
    "scrolled": true
   },
   "outputs": [],
   "source": [
    "st = '*'\n",
    "st2 = '* *'\n",
    "st3 = '*****'\n",
    "st4 = '      '\n",
    "\n",
    "print(st.center(100, ' '))\n",
    "print(st2.center(100, ' '))\n",
    "print((st2+st4+st2).center(100, ' '))\n",
    "print(st3.center(100, ' '))"
   ]
  },
  {
   "cell_type": "code",
   "execution_count": null,
   "metadata": {},
   "outputs": [],
   "source": [
    "def star(n):\n",
    "    st1 = '*'\n",
    "    st2 = '* *'\n",
    "    st3 = '*****'\n",
    "    st4 = ' '\n",
    "    result1 = ''\n",
    "    result2 = ''\n",
    "    result3 = ''\n",
    "    result = ''\n",
    "    n = int(n)\n",
    "    for i in range(1,(n//3)+1,1):\n",
    "        result1 += (st1 + (st4*((3*i)-1) + st1)*(i-1))\n",
    "        result2 += (st2 + (st4*((2*i)-1) + st2)*(i-1))\n",
    "        result3 += (st3 + (st4*(i-1) + st3)*(i-1))\n",
    "        return (result1.center(100, ' '),result2.center(100, ' '),result3.center(100, ' '))\n",
    "    \n",
    "n = input()\n",
    "star(n)"
   ]
  },
  {
   "cell_type": "code",
   "execution_count": null,
   "metadata": {},
   "outputs": [],
   "source": [
    "def star(n):\n",
    "    st1 = '*'\n",
    "    st2 = '* *'\n",
    "    st3 = '*****'\n",
    "    st4 = ' '\n",
    "    result1 = ''\n",
    "    result2 = ''\n",
    "    result3 = ''\n",
    "    result = ''\n",
    "    n = int(n)\n",
    "    if n==1:\n",
    "        for i in range(1,(n//3)+1,1):\n",
    "            result1 += (st1 + (st4*((3*i)-1) + st1)*(i-1))\n",
    "            result2 += (st2 + (st4*((2*i)-1) + st2)*(i-1))\n",
    "            result3 += (st3 + (st4*(i-1) + st3)*(i-1))\n",
    "        return (result1.center(100, ' '),result2.center(100, ' '),result3.center(100, ' '))\n",
    "    if n==2:\n",
    "        for i in range(1,(n//3)+1,1):\n",
    "            result1 += (st1 + (st4*((3*i)-1) + st1)*(i-1))\n",
    "            result2 += (st2 + (st4*((2*i)-1) + st2)*(i-1))\n",
    "            result3 += (st3 + (st4*(i-1) + st3)*(i-1))\n",
    "        return (result1.center(100, ' '),result2.center(100, ' '),result3.center(100, ' '))\n",
    "\n",
    "n = input()\n",
    "star(n)"
   ]
  },
  {
   "cell_type": "code",
   "execution_count": 46,
   "metadata": {},
   "outputs": [
    {
     "name": "stdout",
     "output_type": "stream",
     "text": [
      "6\n",
      "                                                 *                                                  \n",
      "                                                * *                                                 \n",
      "                                               *****                                                \n",
      "                                              *     *                                               \n",
      "                                             * *   * *                                              \n",
      "                                            *****  *****                                            \n"
     ]
    },
    {
     "data": {
      "text/plain": [
       "0"
      ]
     },
     "execution_count": 46,
     "metadata": {},
     "output_type": "execute_result"
    }
   ],
   "source": [
    "def star(n):\n",
    "    n = int(n)\n",
    "    st ='*'\n",
    "    bl = ' '\n",
    "    result = ''\n",
    "    if n<=6 :\n",
    "        for i in range(1,n+1,1):\n",
    "            if i%3==1:\n",
    "                result += (st)+(bl*5)*int(i/3)+(st)*(int(i/3))\n",
    "            elif i%3==2:\n",
    "                result += (st+bl+st)+(bl*3*int(i/3))+(st+bl+st)*(int(i/3))\n",
    "            else:\n",
    "                result += (st*5)+(bl*1*int(i/3))+(st*5)*(int(i/3-1))\n",
    "            print(result.center(100, ' '))\n",
    "            result = ''\n",
    "    \n",
    "            if n==3*2**0:\n",
    "                center_bl = bl*\n",
    "            elif n==3*2**i:\n",
    "                center_bl = bl*\n",
    "n = input()\n",
    "star(n)\n"
   ]
  },
  {
   "cell_type": "code",
   "execution_count": 96,
   "metadata": {},
   "outputs": [
    {
     "data": {
      "text/plain": [
       "'*****'"
      ]
     },
     "execution_count": 96,
     "metadata": {},
     "output_type": "execute_result"
    }
   ],
   "source": [
    "def star1(n):\n",
    "    st ='*'\n",
    "    return st\n",
    "def star2(n):\n",
    "    n = int(n)\n",
    "    st ='*'\n",
    "    bl =' '\n",
    "    center_bl = []\n",
    "    for i in range(int(n/3),0,-2):\n",
    "        center_bl.append(bl*i)\n",
    "    return (st + center_bl[i-1] + st)\n",
    "def star3(n):\n",
    "    st ='*'\n",
    "    return st*5\n",
    "'''\n",
    "def star(n):\n",
    "    st ='*'\n",
    "    bl = ' '\n",
    "    n = input()\n",
    "    n = int(n)\n",
    "    n3 = int(n/3)\n",
    "    result1=''\n",
    "    result2=''\n",
    "    result3=''\n",
    "    result=''\n",
    "    \n",
    "    center_bl = []\n",
    "    for i in range(n3,0,-1):\n",
    "        if n==3*i:\n",
    "            for i in range(n,0,-2):\n",
    "                center_bl.append(bl*i)\n",
    "            result1 += st \n",
    "            result2 += (st + center_bl[i] + st)\n",
    "            result3 += st*5\n",
    "            return result1+'\\n'+result2+'\\n'+result3\n",
    "        else :\n",
    "            result += (star(3) + bl + star(3))\n",
    "    print(result1.center(10, ' '))\n",
    "    print(result2.center(10, ' '))\n",
    "    print(result3.center(10, ' '))\n",
    "''' \n",
    "def star(n):\n",
    "    n = int(input(n))\n",
    "    result = ''\n",
    "    result = f'''{star1(n)}\n",
    "    {star2(n)}\n",
    "    {star3(n)}'''\n",
    "    return result.center(10, ' ')\n",
    "star1(3)\n",
    "star2(3)\n",
    "star3(3)"
   ]
  },
  {
   "cell_type": "code",
   "execution_count": 68,
   "metadata": {},
   "outputs": [
    {
     "name": "stdout",
     "output_type": "stream",
     "text": [
      "asdfhkj\n",
      "sahjsa\n"
     ]
    }
   ],
   "source": [
    "print('asdfhkj\\nsahjsa')"
   ]
  },
  {
   "cell_type": "code",
   "execution_count": 47,
   "metadata": {},
   "outputs": [
    {
     "name": "stdout",
     "output_type": "stream",
     "text": [
      "                                                 *                                                  \n",
      "                                                * *                                                 \n",
      "                                               *****                                                \n",
      "                                              *     *                                               \n",
      "                                             * *   * *                                              \n",
      "                                            ***** *****                                             \n",
      "                                           *           *                                            \n",
      "                                          * *         * *                                           \n",
      "                                         *****       *****                                          \n",
      "                                        *     *     *     *                                         \n",
      "                                       * *   * *   * *   * *                                        \n",
      "                                      ***** ***** ***** *****                                       \n",
      "                                     *                       *                                      \n",
      "                                    * *                     * *                                     \n",
      "                                   *****                   *****                                    \n",
      "                                  *     *                 *     *                                   \n",
      "                                 * *   * *               * *   * *                                  \n",
      "                                ***** *****             ***** *****                                 \n",
      "                               *           *           *           *                                \n",
      "                              * *         * *         * *         * *                               \n",
      "                             *****       *****       *****       *****                              \n",
      "                            *     *     *     *     *     *     *     *                             \n",
      "                           * *   * *   * *   * *   * *   * *   * *   * *                            \n",
      "                          ***** ***** ***** ***** ***** ***** ***** *****                           \n"
     ]
    }
   ],
   "source": [
    "st1 = '*'\n",
    "st2 = '* *'\n",
    "st3 = '*****'\n",
    "st4 = ' '\n",
    "\n",
    "print(st1.center(100, ' '))\n",
    "print(st2.center(100, ' '))\n",
    "print(st3.center(100, ' '))\n",
    "print((st1+st4*5+st1).center(100, ' '))\n",
    "print((st2+st4*3+st2).center(100, ' '))\n",
    "print((st3+st4+st3).center(100, ' '))\n",
    "print((st1+st4*11+st1).center(100, ' '))\n",
    "print((st2+st4*9+st2).center(100, ' '))\n",
    "print((st3+st4*7+st3).center(100, ' '))\n",
    "print((st1+st4*5+st1+st4*5+st1+st4*5+st1).center(100, ' '))\n",
    "print((st2+st4*3+st2+st4*3+st2+st4*3+st2).center(100, ' '))\n",
    "print((st3+st4+st3+st4+st3+st4+st3).center(100, ' '))\n",
    "print((st1+st4*23+st1).center(100, ' '))\n",
    "print((st2+st4*21+st2).center(100, ' '))\n",
    "print((st3+st4*19+st3).center(100, ' '))\n",
    "print((st1+st4*5+st1+st4*17+st1+st4*5+st1).center(100, ' '))\n",
    "print((st2+st4*3+st2+st4*15+st2+st4*3+st2).center(100, ' '))\n",
    "print((st3+st4*1+st3+st4*13+st3+st4*1+st3).center(100, ' '))\n",
    "print((st1+st4*11+st1+st4*11+st1+st4*11+st1).center(100, ' '))\n",
    "print((st2+st4*9+st2+st4*9+st2+st4*9+st2).center(100, ' '))\n",
    "print((st3+st4*7+st3+st4*7+st3+st4*7+st3).center(100, ' '))\n",
    "print((st1+st4*5+st1+st4*5+st1+st4*5+st1+st4*5+st1+st4*5+st1+st4*5+st1+st4*5+st1).center(100, ' '))\n",
    "print((st2+st4*3+st2+st4*3+st2+st4*3+st2+st4*3+st2+st4*3+st2+st4*3+st2+st4*3+st2).center(100, ' '))\n",
    "print((st3+st4+st3+st4+st3+st4+st3+st4+st3+st4+st3+st4+st3+st4+st3).center(100, ' '))"
   ]
  }
 ],
 "metadata": {
  "kernelspec": {
   "display_name": "Python 3",
   "language": "python",
   "name": "python3"
  },
  "language_info": {
   "codemirror_mode": {
    "name": "ipython",
    "version": 3
   },
   "file_extension": ".py",
   "mimetype": "text/x-python",
   "name": "python",
   "nbconvert_exporter": "python",
   "pygments_lexer": "ipython3",
   "version": "3.6.7"
  },
  "toc": {
   "base_numbering": 1,
   "nav_menu": {},
   "number_sections": true,
   "sideBar": true,
   "skip_h1_title": false,
   "title_cell": "Table of Contents",
   "title_sidebar": "Contents",
   "toc_cell": false,
   "toc_position": {},
   "toc_section_display": true,
   "toc_window_display": false
  }
 },
 "nbformat": 4,
 "nbformat_minor": 2
}
