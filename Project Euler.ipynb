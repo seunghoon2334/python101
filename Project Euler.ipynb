{
 "cells": [
  {
   "cell_type": "markdown",
   "metadata": {},
   "source": [
    "# Problem 1"
   ]
  },
  {
   "cell_type": "code",
   "execution_count": 3,
   "metadata": {},
   "outputs": [
    {
     "name": "stdout",
     "output_type": "stream",
     "text": [
      "233168\n"
     ]
    }
   ],
   "source": [
    "sum = 0\n",
    "for i in range(1,1000):\n",
    "    if i%3==0 or i%5==0:\n",
    "        sum += i\n",
    "print(sum)"
   ]
  },
  {
   "cell_type": "markdown",
   "metadata": {},
   "source": [
    "# Problem 2"
   ]
  },
  {
   "cell_type": "code",
   "execution_count": 4,
   "metadata": {},
   "outputs": [
    {
     "name": "stdout",
     "output_type": "stream",
     "text": [
      "4613732\n"
     ]
    }
   ],
   "source": [
    "def fib(n):\n",
    "    if n==0:\n",
    "        return 1\n",
    "    elif n==1:\n",
    "        return 1\n",
    "    else :\n",
    "        return fib(n-1) + fib(n-2)\n",
    "    \n",
    "sum = 0\n",
    "n = 1\n",
    "while fib(n)<=4000000:\n",
    "    if fib(n)%2==0:\n",
    "        sum += fib(n)\n",
    "    n += 1\n",
    "print(sum)"
   ]
  },
  {
   "cell_type": "markdown",
   "metadata": {},
   "source": [
    "# Problem 3"
   ]
  },
  {
   "cell_type": "code",
   "execution_count": 7,
   "metadata": {},
   "outputs": [
    {
     "name": "stdout",
     "output_type": "stream",
     "text": [
      "[71, 839, 1471, 6857]\n",
      "6857\n"
     ]
    }
   ],
   "source": [
    "def prime(n):\n",
    "    i = 2\n",
    "    a = []\n",
    "    while n!=1:\n",
    "        if n%i==0:\n",
    "            a.append(i)\n",
    "            n = n//i\n",
    "        else :\n",
    "            i += 1\n",
    "    print(a)\n",
    "    return max(a)\n",
    "    \n",
    "n = 600851475143\n",
    "print(prime(n))"
   ]
  },
  {
   "cell_type": "markdown",
   "metadata": {},
   "source": [
    "# Problem 4"
   ]
  },
  {
   "cell_type": "code",
   "execution_count": 16,
   "metadata": {},
   "outputs": [
    {
     "name": "stdout",
     "output_type": "stream",
     "text": [
      "906609\n"
     ]
    }
   ],
   "source": [
    "def palin(s):\n",
    "    n = len(str(s))\n",
    "    for i in range(n//2):\n",
    "        if s[i] != s[-1-i]:\n",
    "            return False\n",
    "    return True\n",
    "\n",
    "result = 0\n",
    "for i in range(999,99,-1):\n",
    "    for j in range(999,99,-1):\n",
    "        if palin(str(i*j)) and (i*j)>result:\n",
    "            result = i*j\n",
    "print(result)"
   ]
  },
  {
   "cell_type": "markdown",
   "metadata": {},
   "source": [
    "# Problem 5"
   ]
  },
  {
   "cell_type": "code",
   "execution_count": 51,
   "metadata": {
    "scrolled": true
   },
   "outputs": [
    {
     "name": "stdout",
     "output_type": "stream",
     "text": [
      "[]\n",
      "[2]\n",
      "[3]\n",
      "[2, 2]\n",
      "[5]\n",
      "[2, 3]\n",
      "[7]\n",
      "[2, 2, 2]\n",
      "[3, 3]\n",
      "[2, 5]\n",
      "[11]\n",
      "[2, 2, 3]\n",
      "[13]\n",
      "[2, 7]\n",
      "[3, 5]\n",
      "[2, 2, 2, 2]\n",
      "[17]\n",
      "[2, 3, 3]\n",
      "[19]\n",
      "[2, 2, 5]\n",
      "[0, 0, 4, 2, 0, 1, 0, 1, 0, 0, 0, 1, 0, 1, 0, 0, 0, 1, 0, 1, 0]\n",
      "232792560\n"
     ]
    }
   ],
   "source": [
    "def prime(n):\n",
    "    i = 2\n",
    "    a = []\n",
    "    while n!=1:\n",
    "        if n%i==0:\n",
    "            a.append(i)\n",
    "            n = n//i\n",
    "        else :\n",
    "            i += 1\n",
    "    return a\n",
    "\n",
    "a = [0]*21\n",
    "for i in range(1,21):\n",
    "    print(prime(i))\n",
    "    for ii in prime(i):\n",
    "        a[ii] = max(a[ii], prime(i).count(ii))\n",
    "print(a)\n",
    "sum = 1\n",
    "for i in range(len(a)):\n",
    "    if a[i]!=0:\n",
    "        sum *= i**a[i]\n",
    "print(sum)"
   ]
  },
  {
   "cell_type": "code",
   "execution_count": 53,
   "metadata": {},
   "outputs": [
    {
     "name": "stdout",
     "output_type": "stream",
     "text": [
      "N:1 a:19 m:19.0\n",
      "N:19.0 a:18 m:18.0\n",
      "N:342.0 a:17 m:17.0\n",
      "N:5814.0 a:16 m:8.0\n",
      "N:46512.0 a:15 m:5.0\n",
      "N:232560.0 a:14 m:7.0\n",
      "N:1627920.0 a:13 m:13.0\n",
      "N:21162960.0 a:11 m:11.0\n",
      "232792560.0\n"
     ]
    }
   ],
   "source": [
    "\t\n",
    "N=1\n",
    "M=20\n",
    "for i in range(1,M):\n",
    "    a=M-i\n",
    "    if N%a==0:\n",
    "        continue\n",
    "    else:\n",
    "        for j in range(1,a):\n",
    "            if a%j==0 and N%j==0:\n",
    "                m=a/j\n",
    "    print(f'N:{N} a:{a} m:{m}')\n",
    "    N=N*m\n",
    "\n",
    "print(N)"
   ]
  },
  {
   "cell_type": "markdown",
   "metadata": {},
   "source": [
    "# Problem 6"
   ]
  },
  {
   "cell_type": "code",
   "execution_count": 3,
   "metadata": {},
   "outputs": [
    {
     "name": "stdout",
     "output_type": "stream",
     "text": [
      "25164150\n"
     ]
    }
   ],
   "source": [
    "sum1 = 0\n",
    "sum2 = 0\n",
    "for i in range(1,101):\n",
    "    sum1 += i**2\n",
    "    sum2 += i\n",
    "print(sum2**2-sum1)"
   ]
  },
  {
   "cell_type": "markdown",
   "metadata": {},
   "source": [
    "# Problem 7"
   ]
  },
  {
   "cell_type": "code",
   "execution_count": 6,
   "metadata": {},
   "outputs": [
    {
     "name": "stdout",
     "output_type": "stream",
     "text": [
      "104743\n"
     ]
    }
   ],
   "source": [
    "a = [2]\n",
    "n = 3\n",
    "while len(a)!=10001:\n",
    "    cnt = 0\n",
    "    for i in range(len(a)):\n",
    "        if n%a[i] != 0:\n",
    "            cnt += 1\n",
    "        else :\n",
    "            break\n",
    "    if cnt==len(a):\n",
    "        a.append(n)\n",
    "    n += 1\n",
    "print(a[10000])"
   ]
  },
  {
   "cell_type": "markdown",
   "metadata": {},
   "source": [
    "# Problem 8"
   ]
  },
  {
   "cell_type": "code",
   "execution_count": 7,
   "metadata": {},
   "outputs": [
    {
     "name": "stdout",
     "output_type": "stream",
     "text": [
      "40824\n"
     ]
    }
   ],
   "source": [
    "n = 7316717653133062491922511967442657474235534919493496983520312774506326239578318016984801869478851843858615607891129494954595017379583319528532088055111254069874715852386305071569329096329522744304355766896648950445244523161731856403098711121722383113622298934233803081353362766142828064444866452387493035890729629049156044077239071381051585930796086670172427121883998797908792274921901699720888093776657273330010533678812202354218097512545405947522435258490771167055601360483958644670632441572215539753697817977846174064955149290862569321978468622482839722413756570560574902614079729686524145351004748216637048440319989000889524345065854122758866688116427171479924442928230863465674813919123162824586178664583591245665294765456828489128831426076900422421902267105562632111110937054421750694165896040807198403850962455444362981230987879927244284909188845801561660979191338754992005240636899125607176060588611646710940507754100225698315520005593572972571636269561882670428252483600823257530420752963450\n",
    "n = str(n)\n",
    "sum = 0\n",
    "for i in range(len(n)-4):\n",
    "    tmp = int(n[0+i])*int(n[1+i])*int(n[2+i])*int(n[3+i])*int(n[4+i])\n",
    "    if sum < tmp :\n",
    "        sum = tmp\n",
    "print(sum)"
   ]
  },
  {
   "cell_type": "markdown",
   "metadata": {},
   "source": [
    "# Problem 9"
   ]
  },
  {
   "cell_type": "code",
   "execution_count": 23,
   "metadata": {},
   "outputs": [
    {
     "data": {
      "text/plain": [
       "31875000"
      ]
     },
     "execution_count": 23,
     "metadata": {},
     "output_type": "execute_result"
    }
   ],
   "source": [
    "def abc():\n",
    "    for a in range(1,500):\n",
    "        for b in range(2,500):\n",
    "            c = (a**2+b**2)**0.5\n",
    "            if a**2+b**2==c**2 and a+b+c==1000:\n",
    "                return int(a*b*c)\n",
    "abc()"
   ]
  },
  {
   "cell_type": "markdown",
   "metadata": {},
   "source": [
    "# Problem 10"
   ]
  },
  {
   "cell_type": "code",
   "execution_count": 34,
   "metadata": {},
   "outputs": [
    {
     "ename": "KeyboardInterrupt",
     "evalue": "",
     "output_type": "error",
     "traceback": [
      "\u001b[1;31m---------------------------------------------------------------------------\u001b[0m",
      "\u001b[1;31mKeyboardInterrupt\u001b[0m                         Traceback (most recent call last)",
      "\u001b[1;32m<ipython-input-34-4aada1b73793>\u001b[0m in \u001b[0;36m<module>\u001b[1;34m\u001b[0m\n\u001b[0;32m      6\u001b[0m     \u001b[1;32mif\u001b[0m \u001b[0mn\u001b[0m\u001b[1;33m%\u001b[0m\u001b[1;36m2\u001b[0m\u001b[1;33m!=\u001b[0m\u001b[1;36m0\u001b[0m \u001b[1;32mor\u001b[0m \u001b[0mn\u001b[0m\u001b[1;33m%\u001b[0m\u001b[1;36m3\u001b[0m\u001b[1;33m!=\u001b[0m\u001b[1;36m0\u001b[0m \u001b[1;32mor\u001b[0m \u001b[0mn\u001b[0m\u001b[1;33m%\u001b[0m\u001b[1;36m5\u001b[0m\u001b[1;33m!=\u001b[0m\u001b[1;36m0\u001b[0m \u001b[1;32mor\u001b[0m \u001b[0mn\u001b[0m\u001b[1;33m%\u001b[0m\u001b[1;36m7\u001b[0m\u001b[1;33m!=\u001b[0m\u001b[1;36m0\u001b[0m \u001b[1;32mor\u001b[0m \u001b[0mn\u001b[0m\u001b[1;33m%\u001b[0m\u001b[1;36m11\u001b[0m\u001b[1;33m!=\u001b[0m\u001b[1;36m0\u001b[0m\u001b[1;33m:\u001b[0m\u001b[1;33m\u001b[0m\u001b[1;33m\u001b[0m\u001b[0m\n\u001b[0;32m      7\u001b[0m         \u001b[1;32mfor\u001b[0m \u001b[0mi\u001b[0m \u001b[1;32min\u001b[0m \u001b[0mrange\u001b[0m\u001b[1;33m(\u001b[0m\u001b[0mlen\u001b[0m\u001b[1;33m(\u001b[0m\u001b[0ma\u001b[0m\u001b[1;33m)\u001b[0m\u001b[1;33m)\u001b[0m\u001b[1;33m:\u001b[0m\u001b[1;33m\u001b[0m\u001b[1;33m\u001b[0m\u001b[0m\n\u001b[1;32m----> 8\u001b[1;33m             \u001b[1;32mif\u001b[0m \u001b[0mn\u001b[0m\u001b[1;33m%\u001b[0m\u001b[0ma\u001b[0m\u001b[1;33m[\u001b[0m\u001b[0mi\u001b[0m\u001b[1;33m]\u001b[0m \u001b[1;33m!=\u001b[0m \u001b[1;36m0\u001b[0m\u001b[1;33m:\u001b[0m\u001b[1;33m\u001b[0m\u001b[1;33m\u001b[0m\u001b[0m\n\u001b[0m\u001b[0;32m      9\u001b[0m                 \u001b[0mcnt\u001b[0m \u001b[1;33m+=\u001b[0m \u001b[1;36m1\u001b[0m\u001b[1;33m\u001b[0m\u001b[1;33m\u001b[0m\u001b[0m\n\u001b[0;32m     10\u001b[0m             \u001b[1;32melse\u001b[0m \u001b[1;33m:\u001b[0m\u001b[1;33m\u001b[0m\u001b[1;33m\u001b[0m\u001b[0m\n",
      "\u001b[1;31mKeyboardInterrupt\u001b[0m: "
     ]
    }
   ],
   "source": [
    "a = [2,3,5,7,11]\n",
    "n = 12\n",
    "suma = 28\n",
    "while n<=2000000:\n",
    "    cnt = 0\n",
    "    if n%2!=0 or n%3!=0 or n%5!=0 or n%7!=0 or n%11!=0:\n",
    "        for i in range(len(a)):\n",
    "            if n%a[i] != 0:\n",
    "                cnt += 1\n",
    "            else :\n",
    "                break\n",
    "        if cnt==len(a):\n",
    "            a.append(n)\n",
    "            suma += n\n",
    "    n += 1\n",
    "print(suma)"
   ]
  },
  {
   "cell_type": "code",
   "execution_count": 37,
   "metadata": {},
   "outputs": [
    {
     "name": "stdout",
     "output_type": "stream",
     "text": [
      "[2, 3, 5, 7, 11, 13, 17, 19, 23, 29, 31, 37, 41, 43, 47, 53, 59, 61, 67, 71, 73, 79, 83, 89, 97, 101, 103, 107, 109, 113, 127, 131, 137, 139, 149, 151, 157, 163, 167, 173, 179, 181, 191, 193, 197, 199, 211, 223, 227, 229, 233, 239, 241, 251, 257, 263, 269, 271, 277, 281, 283, 293, 307, 311, 313, 317, 331, 337, 347, 349, 353, 359, 367, 373, 379, 383, 389, 397, 401, 409, 419, 421, 431, 433, 439, 443, 449, 457, 461, 463, 467, 479, 487, 491, 499, 503, 509, 521, 523, 541, 547, 557, 563, 569, 571, 577, 587, 593, 599, 601, 607, 613, 617, 619, 631, 641, 643, 647, 653, 659, 661, 673, 677, 683, 691, 701, 709, 719, 727, 733, 739, 743, 751, 757, 761, 769, 773, 787, 797, 809, 811, 821, 823, 827, 829, 839, 853, 857, 859, 863, 877, 881, 883, 887, 907, 911, 919, 929, 937, 941, 947, 953, 967, 971, 977, 983, 991, 997]\n"
     ]
    }
   ],
   "source": [
    "n=1000 # 에라토스테네스의 체\n",
    "a = [False,False] + [True]*(n-1)\n",
    "primes=[]\n",
    "\n",
    "for i in range(2,n+1):\n",
    "    if a[i]:\n",
    "        primes.append(i)\n",
    "        for j in range(2*i, n+1, i):\n",
    "            a[j] = False\n",
    "print(primes)"
   ]
  },
  {
   "cell_type": "code",
   "execution_count": 36,
   "metadata": {},
   "outputs": [
    {
     "name": "stdout",
     "output_type": "stream",
     "text": [
      "142913828922\n"
     ]
    }
   ],
   "source": [
    "n=2000000 \n",
    "a = [False,False] + [True]*(n-1)\n",
    "primes=0\n",
    "\n",
    "for i in range(2,n+1):\n",
    "    if a[i]:\n",
    "        primes += i\n",
    "        for j in range(2*i, n+1, i):\n",
    "            a[j] = False\n",
    "print(primes)"
   ]
  },
  {
   "cell_type": "markdown",
   "metadata": {},
   "source": [
    "# Problem 11"
   ]
  },
  {
   "cell_type": "code",
   "execution_count": 51,
   "metadata": {},
   "outputs": [
    {
     "name": "stdout",
     "output_type": "stream",
     "text": [
      "70600674\n"
     ]
    }
   ],
   "source": [
    "arr = [\n",
    "[8, 2, 22, 97, 38, 15, 0, 40, 0, 75, 4, 5, 7, 78, 52, 12, 50, 77, 91, 8],\n",
    "[49, 49, 99, 40, 17, 81, 18, 57, 60, 87, 17, 40, 98, 43, 69, 48, 4, 56, 62, 0],\n",
    "[81, 49, 31, 73, 55, 79, 14, 29, 93, 71, 40, 67, 53, 88, 30, 3, 49, 13, 36, 65],\n",
    "[52, 70, 95, 23, 4, 60, 11, 42, 69, 24, 68, 56, 1, 32, 56, 71, 37, 2, 36, 91],\n",
    "[22, 31, 16, 71, 51, 67, 63, 89, 41, 92, 36, 54, 22, 40, 40, 28, 66, 33, 13, 80],\n",
    "[24, 47, 32, 60, 99, 3, 45, 2, 44, 75, 33, 53, 78, 36, 84, 20, 35, 17, 12, 50],\n",
    "[32, 98, 81, 28, 64, 23, 67, 10, 26, 38, 40, 67, 59, 54, 70, 66, 18, 38, 64, 70],\n",
    "[67, 26, 20, 68, 2, 62, 12, 20, 95, 63, 94, 39, 63, 8, 40, 91, 66, 49, 94, 21],\n",
    "[24, 55, 58, 5, 66, 73, 99, 26, 97, 17, 78, 78, 96, 83, 14, 88, 34, 89, 63, 72],\n",
    "[21, 36, 23, 9, 75, 0, 76, 44, 20, 45, 35, 14, 0, 61, 33, 97, 34, 31, 33, 95],\n",
    "[78, 17, 53, 28, 22, 75, 31, 67, 15, 94, 3, 80, 4, 62, 16, 14, 9, 53, 56, 92],\n",
    "[16, 39, 5, 42, 96, 35, 31, 47, 55, 58, 88, 24, 0, 17, 54, 24, 36, 29, 85, 57],\n",
    "[86, 56, 0, 48, 35, 71, 89, 7, 5, 44, 44, 37, 44, 60, 21, 58, 51, 54, 17, 58],\n",
    "[19, 80, 81, 68, 5, 94, 47, 69, 28, 73, 92, 13, 86, 52, 17, 77, 4, 89, 55, 40],\n",
    "[4, 52, 8, 83, 97, 35, 99, 16, 7, 97, 57, 32, 16, 26, 26, 79, 33, 27, 98, 66],\n",
    "[88, 36, 68, 87, 57, 62, 20, 72, 3, 46, 33, 67, 46, 55, 12, 32, 63, 93, 53, 69],\n",
    "[4, 42, 16, 73, 38, 25, 39, 11, 24, 94, 72, 18, 8, 46, 29, 32, 40, 62, 76, 36],\n",
    "[20, 69, 36, 41, 72, 30, 23, 88, 34, 62, 99, 69, 82, 67, 59, 85, 74, 4, 36, 16],\n",
    "[20, 73, 35, 29, 78, 31, 90, 1, 74, 31, 49, 71, 48, 86, 81, 16, 23, 57, 5, 54],\n",
    "[1, 70, 54, 71, 83, 51, 54, 69, 16, 92, 33, 48, 61, 43, 52, 1, 89, 19, 67, 48]\n",
    "]\n",
    "result = 0\n",
    "for i in range(20):\n",
    "    for j in range(17):\n",
    "        tmp = arr[i][j]*arr[i][j+1]*arr[i][j+2]*arr[i][j+3]\n",
    "        if result < tmp:\n",
    "            result = tmp\n",
    "for i in range(17):\n",
    "    for j in range(20):\n",
    "        tmp = arr[i][j]*arr[i+1][j]*arr[i+2][j]*arr[i+3][j]\n",
    "        if result < tmp:\n",
    "            result = tmp\n",
    "for i in range(17):\n",
    "    for j in range(17):\n",
    "        tmp = arr[i][j]*arr[i+1][j+1]*arr[i+2][j+2]*arr[i+3][j+3]\n",
    "        if result < tmp:\n",
    "            result = tmp\n",
    "for i in range(17):\n",
    "    for j in range(3,20):\n",
    "        tmp = arr[i][j]*arr[i+1][j-1]*arr[i+2][j-2]*arr[i+3][j-3]\n",
    "        if result < tmp:\n",
    "            result = tmp\n",
    "print(result)"
   ]
  },
  {
   "cell_type": "markdown",
   "metadata": {},
   "source": [
    "# Problem 12"
   ]
  },
  {
   "cell_type": "code",
   "execution_count": 162,
   "metadata": {},
   "outputs": [
    {
     "ename": "KeyboardInterrupt",
     "evalue": "",
     "output_type": "error",
     "traceback": [
      "\u001b[1;31m---------------------------------------------------------------------------\u001b[0m",
      "\u001b[1;31mKeyboardInterrupt\u001b[0m                         Traceback (most recent call last)",
      "\u001b[1;32m<ipython-input-162-409344b7a6c3>\u001b[0m in \u001b[0;36m<module>\u001b[1;34m\u001b[0m\n\u001b[0;32m     19\u001b[0m     \u001b[0mn\u001b[0m \u001b[1;33m=\u001b[0m \u001b[1;36m1\u001b[0m\u001b[1;33m\u001b[0m\u001b[1;33m\u001b[0m\u001b[0m\n\u001b[0;32m     20\u001b[0m     \u001b[0mresult\u001b[0m \u001b[1;33m=\u001b[0m \u001b[1;36m0\u001b[0m\u001b[1;33m\u001b[0m\u001b[1;33m\u001b[0m\u001b[0m\n\u001b[1;32m---> 21\u001b[1;33m     \u001b[0md\u001b[0m \u001b[1;33m=\u001b[0m \u001b[0mdivisor\u001b[0m\u001b[1;33m(\u001b[0m\u001b[0mn\u001b[0m\u001b[1;33m)\u001b[0m\u001b[1;33m\u001b[0m\u001b[1;33m\u001b[0m\u001b[0m\n\u001b[0m\u001b[0;32m     22\u001b[0m     \u001b[1;32mfor\u001b[0m \u001b[0mi\u001b[0m \u001b[1;32min\u001b[0m \u001b[0mrange\u001b[0m\u001b[1;33m(\u001b[0m\u001b[0mlen\u001b[0m\u001b[1;33m(\u001b[0m\u001b[0md\u001b[0m\u001b[1;33m)\u001b[0m\u001b[1;33m)\u001b[0m\u001b[1;33m:\u001b[0m\u001b[1;33m\u001b[0m\u001b[1;33m\u001b[0m\u001b[0m\n\u001b[0;32m     23\u001b[0m         \u001b[0mresult\u001b[0m \u001b[1;33m+=\u001b[0m \u001b[1;36m2\u001b[0m\u001b[1;33m**\u001b[0m\u001b[0md\u001b[0m\u001b[1;33m[\u001b[0m\u001b[0mi\u001b[0m\u001b[1;33m]\u001b[0m\u001b[1;33m\u001b[0m\u001b[1;33m\u001b[0m\u001b[0m\n",
      "\u001b[1;31mKeyboardInterrupt\u001b[0m: "
     ]
    }
   ],
   "source": [
    "def divisor(n): #인수분해\n",
    "    i = 2\n",
    "    a = []\n",
    "    b = []\n",
    "    while n != 1:\n",
    "        if n%i==0:\n",
    "            if i in a:\n",
    "                b[a.index(i)] += 1\n",
    "            else :\n",
    "                a.append(i)\n",
    "                b.append(1)\n",
    "            n /= i\n",
    "        else :\n",
    "            i += 1\n",
    "    return b\n",
    "\n",
    "\n",
    "while True:\n",
    "    n = 1\n",
    "    result = 0\n",
    "    d = divisor(n)\n",
    "    for i in range(len(d)):\n",
    "        result += 2**d[i]\n",
    "    n += 1\n",
    "    if result >= 500:\n",
    "        break\n",
    "\n",
    "print(result)\n",
    "            \n",
    "            "
   ]
  },
  {
   "cell_type": "code",
   "execution_count": 169,
   "metadata": {},
   "outputs": [
    {
     "data": {
      "text/plain": [
       "[[2, 2], [7, 1]]"
      ]
     },
     "execution_count": 169,
     "metadata": {},
     "output_type": "execute_result"
    }
   ],
   "source": [
    "import math\n",
    "def primeSieve(sieveSize):\n",
    "    # creating Sieve (0~n까지의 slot)\n",
    "    sieve = [True] * (sieveSize+1)\n",
    "    # 0과 1은 소수가 아니므로 제외\n",
    "    sieve[0] = False\n",
    "    sieve[1] = False\n",
    "    # 2부터 (루트 n) + 1까지의 숫자를 탐색\n",
    "    for i in range(2,int(math.sqrt(sieveSize))+1):\n",
    "        # i가 소수가 아니면 pass\n",
    "        if sieve[i] == False:\n",
    "            continue\n",
    "        # i가 소수라면 i*i~n까지 숫자 가운데 i의 배수를\n",
    "        # 소수에서 제외\n",
    "        for pointer in range(i**2, sieveSize+1, i):\n",
    "            sieve[pointer] = False\n",
    "    primes = []\n",
    "    # sieve 리스트에서 True인 것이 소수이므로\n",
    "    # True인 값의 인덱스를 결과로 저장\n",
    "    for i in range(sieveSize+1):\n",
    "        if sieve[i] == True:\n",
    "            primes.append(i)\n",
    "    return primes\n",
    "\n",
    "def get_prime_factors(n):\n",
    "    # n 범위 내의 소수를 구한다\n",
    "    primelist = primeSieve(n)\n",
    "    # 이 소수들 중 n으로 나누어 떨어지는\n",
    "    # 소수를 구하고, 몇 번 나눌 수 있는지 계산\n",
    "    # 예 : n = 8, factors = [(2, 3)]\n",
    "    # 예 : n = 100, fcount = [(2: 2), (5: 2)]\n",
    "    factors = []\n",
    "    for p in primelist:\n",
    "        count = 0\n",
    "        while n % p == 0:\n",
    "            n /= p\n",
    "            count += 1\n",
    "        if count > 0:\n",
    "            factors.append([p, count])\n",
    "    return factors\n",
    "\n",
    "get_prime_factors(28)"
   ]
  }
 ],
 "metadata": {
  "kernelspec": {
   "display_name": "Python 3",
   "language": "python",
   "name": "python3"
  },
  "language_info": {
   "codemirror_mode": {
    "name": "ipython",
    "version": 3
   },
   "file_extension": ".py",
   "mimetype": "text/x-python",
   "name": "python",
   "nbconvert_exporter": "python",
   "pygments_lexer": "ipython3",
   "version": "3.6.7"
  },
  "toc": {
   "base_numbering": 1,
   "nav_menu": {},
   "number_sections": true,
   "sideBar": true,
   "skip_h1_title": false,
   "title_cell": "Table of Contents",
   "title_sidebar": "Contents",
   "toc_cell": false,
   "toc_position": {},
   "toc_section_display": true,
   "toc_window_display": false
  }
 },
 "nbformat": 4,
 "nbformat_minor": 2
}
