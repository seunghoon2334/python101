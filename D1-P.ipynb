{
 "cells": [
  {
   "cell_type": "markdown",
   "metadata": {},
   "source": [
    "- 두 개의 정수 n과 m이 주어집니다. 반복문을 사용하지 않고 별(*) 문자를 이용해 가로의 길이가 n, 세로의 길이가 m인 직사각형 형태를 출력해보세요."
   ]
  },
  {
   "cell_type": "code",
   "execution_count": 2,
   "metadata": {},
   "outputs": [],
   "source": [
    "# 문제\n",
    "n = 5\n",
    "m = 9"
   ]
  },
  {
   "cell_type": "code",
   "execution_count": 48,
   "metadata": {},
   "outputs": [
    {
     "name": "stdout",
     "output_type": "stream",
     "text": [
      "*****\n",
      "*****\n",
      "*****\n",
      "*****\n",
      "*****\n",
      "*****\n",
      "*****\n",
      "*****\n",
      "*****\n",
      "\n"
     ]
    }
   ],
   "source": [
    "# 정답\n",
    "print(('*'*n+'\\n')*m)\n",
    "\n",
    "#a = '*'*n\n",
    "#b = a + 'n'\n",
    "#print(b * m)\n"
   ]
  },
  {
   "cell_type": "markdown",
   "metadata": {},
   "source": [
    "- 다음 딕셔너리에서 평균 점수를 출력하시오."
   ]
  },
  {
   "cell_type": "code",
   "execution_count": 23,
   "metadata": {},
   "outputs": [],
   "source": [
    "# 문제\n",
    "student = {'python': 80, 'algorithm': 99, 'django': 89, 'flask': 83}"
   ]
  },
  {
   "cell_type": "code",
   "execution_count": 49,
   "metadata": {},
   "outputs": [
    {
     "name": "stdout",
     "output_type": "stream",
     "text": [
      "87.75\n"
     ]
    }
   ],
   "source": [
    "# 정답\n",
    "cnt = 0\n",
    "sum_score = 0\n",
    "for score in student.values():\n",
    "    sum_score += score\n",
    "    cnt += 1\n",
    "last_score = sum_score / cnt\n",
    "print(last_score)\n",
    "#sum(student.values())/len(student)"
   ]
  },
  {
   "cell_type": "markdown",
   "metadata": {},
   "source": [
    "- 다음은 학생들의 혈액형(A, B, AB, O)에 대한 데이터이다. for문을 이용하여 각 혈액형 별 학생수의 합계를 구하시오."
   ]
  },
  {
   "cell_type": "code",
   "execution_count": 63,
   "metadata": {},
   "outputs": [],
   "source": [
    "# 문제\n",
    "blood_types = ['A', 'B', 'A', 'O', 'AB', 'AB', 'O', 'A', 'B', 'O', 'B', 'AB']"
   ]
  },
  {
   "cell_type": "code",
   "execution_count": 64,
   "metadata": {},
   "outputs": [
    {
     "name": "stdout",
     "output_type": "stream",
     "text": [
      "'A'=3, 'B'=3, 'O'=3, 'AB'=3\n",
      "{'A': 3, 'B': 3, 'O': 3, 'AB': 3}\n"
     ]
    }
   ],
   "source": [
    "# 정답\n",
    "A = 0; B = 0; O = 0; AB = 0\n",
    "for i in blood_types:\n",
    "    if i == 'A':\n",
    "        A += 1\n",
    "    elif i == 'B':\n",
    "        B += 1\n",
    "    elif i == 'O':\n",
    "        O += 1\n",
    "    else:\n",
    "        AB += 1\n",
    "        \n",
    "print(f\"'A'={A}, 'B'={B}, 'O'={O}, 'AB'={AB}\")\n",
    "cnt={}\n",
    "for blood in blood_types:\n",
    "    if blood not in cnt:\n",
    "        cnt[blood] = 1\n",
    "    else:\n",
    "        cnt[blood] += 1\n",
    "print(cnt)"
   ]
  }
 ],
 "metadata": {
  "kernelspec": {
   "display_name": "Python 3",
   "language": "python",
   "name": "python3"
  },
  "language_info": {
   "codemirror_mode": {
    "name": "ipython",
    "version": 3
   },
   "file_extension": ".py",
   "mimetype": "text/x-python",
   "name": "python",
   "nbconvert_exporter": "python",
   "pygments_lexer": "ipython3",
   "version": "3.6.7"
  },
  "toc": {
   "base_numbering": 1,
   "nav_menu": {},
   "number_sections": true,
   "sideBar": true,
   "skip_h1_title": false,
   "title_cell": "Table of Contents",
   "title_sidebar": "Contents",
   "toc_cell": false,
   "toc_position": {},
   "toc_section_display": true,
   "toc_window_display": false
  }
 },
 "nbformat": 4,
 "nbformat_minor": 2
}
