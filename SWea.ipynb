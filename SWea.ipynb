{
 "cells": [
  {
   "cell_type": "markdown",
   "metadata": {},
   "source": [
    "# 2072. 홀수만 더하기"
   ]
  },
  {
   "cell_type": "code",
   "execution_count": null,
   "metadata": {
    "scrolled": true
   },
   "outputs": [],
   "source": [
    "n = input()\n",
    "for t in range(int(n)):\n",
    "    m = input()\n",
    "    sum = 0\n",
    "    a = list(map(int, m.split()))\n",
    "    \n",
    "    for i in a:\n",
    "        if i%2==1:\n",
    "            sum += i\n",
    "    \n",
    "    print(f'#{t+1} {sum}')"
   ]
  },
  {
   "cell_type": "markdown",
   "metadata": {},
   "source": [
    "# 2071. 평균값 구하기"
   ]
  },
  {
   "cell_type": "code",
   "execution_count": null,
   "metadata": {
    "scrolled": true
   },
   "outputs": [],
   "source": [
    "n = input()\n",
    "for t in range(int(n)):\n",
    "    m = input()\n",
    "    sum = 0\n",
    "    a = list(map(int, m.split()))\n",
    "    \n",
    "    for i in a:\n",
    "        sum += i\n",
    "    result = round(sum / len(a))\n",
    "    \n",
    "    print(f'#{t+1} {result}')"
   ]
  },
  {
   "cell_type": "markdown",
   "metadata": {},
   "source": [
    "# 2070. 큰 놈, 작은 놈, 같은 놈"
   ]
  },
  {
   "cell_type": "code",
   "execution_count": null,
   "metadata": {
    "scrolled": true
   },
   "outputs": [],
   "source": [
    "n = input()\n",
    "for t in range(int(n)):\n",
    "    m = input()\n",
    "    sum = 0\n",
    "    a = list(map(int, m.split()))\n",
    "    if a[0] > a[1]:\n",
    "        print(f'#{t+1} >')\n",
    "    elif a[0] == a[1]:\n",
    "        print(f'#{t+1} =')\n",
    "    else:\n",
    "        print(f'#{t+1} <')"
   ]
  },
  {
   "cell_type": "markdown",
   "metadata": {},
   "source": [
    "1859. 백만 장자 프로젝트"
   ]
  },
  {
   "cell_type": "code",
   "execution_count": null,
   "metadata": {},
   "outputs": [],
   "source": [
    "n = input()\n",
    "     #3\n",
    "for tt in range(int(n)):\n",
    "    m = input()\n",
    "    num = 0\n",
    "    o = input() # 10 7 6\n",
    "    sum = 0\n",
    "    key = 0\n",
    "    a = list(map(int, o.split()))#[1 1 3 1 2]\n",
    "    while a != []:\n",
    "        for aa in range(len(a)):#0 1 2 3 4\n",
    "            if num <= a: #num0->1 aa=0\n",
    "                num = a[aa] #num1->3 aa=2\n",
    "                key = aa #key=2, num=3    # max(a)\n",
    "        if num == a[0]:\n",
    "            a.pop(0)\n",
    "        else :\n",
    "            for i in range(key):#삭제\n",
    "                sum += (num - a[0])\n",
    "                a.pop(0)\n",
    "            a.pop(0)\n",
    "            num = 0\n",
    "    print(f'#{tt+1} {sum}')"
   ]
  },
  {
   "cell_type": "code",
   "execution_count": 10,
   "metadata": {},
   "outputs": [],
   "source": [
    "a = [1, 2, 3]"
   ]
  },
  {
   "cell_type": "code",
   "execution_count": 11,
   "metadata": {},
   "outputs": [
    {
     "data": {
      "text/plain": [
       "3"
      ]
     },
     "execution_count": 11,
     "metadata": {},
     "output_type": "execute_result"
    }
   ],
   "source": [
    "max(a)"
   ]
  }
 ],
 "metadata": {
  "kernelspec": {
   "display_name": "Python 3",
   "language": "python",
   "name": "python3"
  },
  "language_info": {
   "codemirror_mode": {
    "name": "ipython",
    "version": 3
   },
   "file_extension": ".py",
   "mimetype": "text/x-python",
   "name": "python",
   "nbconvert_exporter": "python",
   "pygments_lexer": "ipython3",
   "version": "3.6.7"
  },
  "toc": {
   "base_numbering": 1,
   "nav_menu": {},
   "number_sections": true,
   "sideBar": true,
   "skip_h1_title": false,
   "title_cell": "Table of Contents",
   "title_sidebar": "Contents",
   "toc_cell": false,
   "toc_position": {},
   "toc_section_display": true,
   "toc_window_display": false
  }
 },
 "nbformat": 4,
 "nbformat_minor": 2
}
