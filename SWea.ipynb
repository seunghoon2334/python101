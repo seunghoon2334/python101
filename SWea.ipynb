{
 "cells": [
  {
   "cell_type": "markdown",
   "metadata": {},
   "source": [
    "# 2072. 홀수만 더하기"
   ]
  },
  {
   "cell_type": "code",
   "execution_count": null,
   "metadata": {
    "scrolled": true
   },
   "outputs": [],
   "source": [
    "n = input()\n",
    "for t in range(int(n)):\n",
    "    m = input()\n",
    "    sum = 0\n",
    "    a = list(map(int, m.split()))\n",
    "    \n",
    "    for i in a:\n",
    "        if i%2==1:\n",
    "            sum += i\n",
    "    \n",
    "    print(f'#{t+1} {sum}')"
   ]
  },
  {
   "cell_type": "markdown",
   "metadata": {},
   "source": [
    "# 2071. 평균값 구하기"
   ]
  },
  {
   "cell_type": "code",
   "execution_count": null,
   "metadata": {
    "scrolled": true
   },
   "outputs": [],
   "source": [
    "n = input()\n",
    "for t in range(int(n)):\n",
    "    m = input()\n",
    "    sum = 0\n",
    "    a = list(map(int, m.split()))\n",
    "    \n",
    "    for i in a:\n",
    "        sum += i\n",
    "    result = round(sum / len(a))\n",
    "    \n",
    "    print(f'#{t+1} {result}')"
   ]
  },
  {
   "cell_type": "markdown",
   "metadata": {},
   "source": [
    "# 2070. 큰 놈, 작은 놈, 같은 놈"
   ]
  },
  {
   "cell_type": "code",
   "execution_count": null,
   "metadata": {
    "scrolled": true
   },
   "outputs": [],
   "source": [
    "n = input()\n",
    "for t in range(int(n)):\n",
    "    m = input()\n",
    "    sum = 0\n",
    "    a = list(map(int, m.split()))\n",
    "    if a[0] > a[1]:\n",
    "        print(f'#{t+1} >')\n",
    "    elif a[0] == a[1]:\n",
    "        print(f'#{t+1} =')\n",
    "    else:\n",
    "        print(f'#{t+1} <')"
   ]
  },
  {
   "cell_type": "markdown",
   "metadata": {},
   "source": [
    "# 2068. 최대수 구하기"
   ]
  },
  {
   "cell_type": "code",
   "execution_count": null,
   "metadata": {},
   "outputs": [],
   "source": [
    "n = input()\n",
    "for t in range(int(n)):\n",
    "    m = input()\n",
    "    a = list(map(int, m.split()))\n",
    "    print(f'#{t+1} {max(a)}')"
   ]
  },
  {
   "cell_type": "markdown",
   "metadata": {},
   "source": [
    "# 2063. 중간값 찾기"
   ]
  },
  {
   "cell_type": "code",
   "execution_count": null,
   "metadata": {},
   "outputs": [],
   "source": [
    "n = int(input())\n",
    "m = input()\n",
    "a = list(map(int, m.split()))\n",
    "a.sort()\n",
    "print(a[n//2])"
   ]
  },
  {
   "cell_type": "markdown",
   "metadata": {},
   "source": [
    "# 2058. 자릿수 더하기"
   ]
  },
  {
   "cell_type": "code",
   "execution_count": null,
   "metadata": {},
   "outputs": [],
   "source": [
    "n = input()\n",
    "result = 0\n",
    "for i in n:\n",
    "    result += int(i)\n",
    "print(result)"
   ]
  },
  {
   "cell_type": "markdown",
   "metadata": {},
   "source": [
    "# 2056. 연월일 달력"
   ]
  },
  {
   "cell_type": "code",
   "execution_count": null,
   "metadata": {},
   "outputs": [],
   "source": [
    "m = input()\n",
    "for i in range(int(m)):\n",
    "    n = input()\n",
    "    b = 0\n",
    "    c = ''\n",
    "    if 1<=int(n[4]+n[5])<=12:\n",
    "        if 1<=int(n[6]+n[7])<=31:\n",
    "            b = 1\n",
    "            if int(n[6]+n[7])==30:\n",
    "                if int(n[4]+n[5])==4 or int(n[4]+n[5])==6 or int(n[4]+n[5])==9 or int(n[4]+n[5])==11: \n",
    "                    b = 1\n",
    "                else:\n",
    "                    b = 0\n",
    "            if int(n[6]+n[7])==28:\n",
    "                if int(n[4]+n[5])==2:\n",
    "                    b = 1\n",
    "                else:\n",
    "                    b = 0\n",
    "    if b==1 :\n",
    "        c = c + n[0] + n[1] + n[2] + n[3] + '/' + n[4] + n[5] + '/' + n[6] + n[7]\n",
    "    else :\n",
    "        c = '-1'\n",
    "    print(f'#{i+1} {c}')"
   ]
  },
  {
   "cell_type": "markdown",
   "metadata": {},
   "source": [
    "# 2050. 알파벳을 숫자로 변환"
   ]
  },
  {
   "cell_type": "code",
   "execution_count": null,
   "metadata": {},
   "outputs": [],
   "source": [
    "n = input()\n",
    "a = ['33', 'A','B','C','D','E','F','G','H','I','J','K','L','M','N','O','P','Q','R','S','T','U','V','W','X','Y','Z']\n",
    "b = []\n",
    "c = ''\n",
    "for i in n:\n",
    "    b.append(a.index(i))\n",
    "for ii in b:\n",
    "    c += str(ii)+' '\n",
    "print(c)"
   ]
  },
  {
   "cell_type": "markdown",
   "metadata": {},
   "source": [
    "# 2047. 신문 헤드라인"
   ]
  },
  {
   "cell_type": "code",
   "execution_count": null,
   "metadata": {},
   "outputs": [],
   "source": [
    "n = input()\n",
    "print(n.upper())"
   ]
  },
  {
   "cell_type": "markdown",
   "metadata": {},
   "source": [
    "# 2046. 스탬프 찍기"
   ]
  },
  {
   "cell_type": "code",
   "execution_count": null,
   "metadata": {},
   "outputs": [],
   "source": [
    "n = input()\n",
    "s = ''\n",
    "for i in range(int(n)):\n",
    "    s += '#'\n",
    "print(s)    "
   ]
  },
  {
   "cell_type": "markdown",
   "metadata": {},
   "source": [
    "# 2043. 서랍의 비밀번호"
   ]
  },
  {
   "cell_type": "code",
   "execution_count": null,
   "metadata": {},
   "outputs": [],
   "source": [
    "p, k = input().split()\n",
    "p = int(p)\n",
    "k = int(k)\n",
    "cnt = 1\n",
    "while p != k :\n",
    "    if k == 1000:\n",
    "        k = 0\n",
    "    k +=1\n",
    "    cnt += 1\n",
    "print(cnt)"
   ]
  },
  {
   "cell_type": "markdown",
   "metadata": {},
   "source": [
    "# 2029. 몫과 나머지 출력하기"
   ]
  },
  {
   "cell_type": "code",
   "execution_count": null,
   "metadata": {},
   "outputs": [],
   "source": [
    "n = int(input())\n",
    "for i in range(n):\n",
    "    m = input()\n",
    "    a = list(map(int, m.split()))\n",
    "    print(f'#{i+1} {a[0]//a[1]} {a[0]%a[1]}')"
   ]
  },
  {
   "cell_type": "markdown",
   "metadata": {},
   "source": [
    "# 2027. 대각선 출력하기"
   ]
  },
  {
   "cell_type": "code",
   "execution_count": null,
   "metadata": {},
   "outputs": [],
   "source": [
    "print('#++++')\n",
    "print('+#+++')\n",
    "print('++#++')\n",
    "print('+++#+')\n",
    "print('++++#')"
   ]
  },
  {
   "cell_type": "markdown",
   "metadata": {},
   "source": [
    "# 2025. N줄덧셈"
   ]
  },
  {
   "cell_type": "code",
   "execution_count": null,
   "metadata": {},
   "outputs": [],
   "source": [
    "n = int(input())\n",
    "sum = 0\n",
    "for i in range(n):\n",
    "    sum += i+1\n",
    "print(sum)"
   ]
  },
  {
   "cell_type": "markdown",
   "metadata": {},
   "source": [
    "# 1938. 아주 간단한 계산기"
   ]
  },
  {
   "cell_type": "code",
   "execution_count": null,
   "metadata": {},
   "outputs": [],
   "source": [
    "a, b = input().split()\n",
    "a = int(a)\n",
    "b = int(b)\n",
    "print(a+b)\n",
    "print(a-b)\n",
    "print(a*b)\n",
    "print(a//b)"
   ]
  },
  {
   "cell_type": "markdown",
   "metadata": {},
   "source": [
    "# 1933. 간단한 N의 약수"
   ]
  },
  {
   "cell_type": "code",
   "execution_count": null,
   "metadata": {},
   "outputs": [],
   "source": [
    "n = int(input())\n",
    "b = []\n",
    "c = ''\n",
    "for i in range(n):\n",
    "    if n//(i+1) == n/(i+1):\n",
    "        b.append(i+1)\n",
    "for ii in b:\n",
    "    c += str(ii)+' '\n",
    "print(c)"
   ]
  },
  {
   "cell_type": "markdown",
   "metadata": {},
   "source": [
    "# 1936. 1대1 가위바위보"
   ]
  },
  {
   "cell_type": "code",
   "execution_count": null,
   "metadata": {},
   "outputs": [],
   "source": [
    "p, k = input().split()\n",
    "p = int(p)\n",
    "k = int(k)\n",
    "print('A') if (p==1 and k==3) or (p==2 and k==1) or (p==3 and k==2) else print('B')"
   ]
  },
  {
   "cell_type": "markdown",
   "metadata": {},
   "source": [
    "# 2019. 더블더블"
   ]
  },
  {
   "cell_type": "code",
   "execution_count": null,
   "metadata": {},
   "outputs": [],
   "source": [
    "n = int(input())\n",
    "c = ''\n",
    "for i in range(n+1):\n",
    "    c += str(2**i)+' '\n",
    "print(c)"
   ]
  },
  {
   "cell_type": "markdown",
   "metadata": {},
   "source": [
    "# 1545. 거꾸로 출력해 보아요"
   ]
  },
  {
   "cell_type": "code",
   "execution_count": null,
   "metadata": {},
   "outputs": [],
   "source": [
    "n = int(input())\n",
    "c = ''\n",
    "for i in range(n,-1,-1):\n",
    "    c += str(i)+' '\n",
    "print(c)"
   ]
  },
  {
   "cell_type": "markdown",
   "metadata": {},
   "source": [
    "# 1859. 백만 장자 프로젝트"
   ]
  },
  {
   "cell_type": "code",
   "execution_count": null,
   "metadata": {},
   "outputs": [],
   "source": [
    "n = input()\n",
    "     #3\n",
    "for tt in range(int(n)):\n",
    "    m = input()\n",
    "    num = 0\n",
    "    o = input() # 10 7 6\n",
    "    sum = 0\n",
    "    key = 0\n",
    "    a = list(map(int, o.split()))#[1 1 3 1 2]\n",
    "    while a != []:\n",
    "        for aa in range(len(a)):#0 1 2 3 4\n",
    "            if num <= a[aa]: #num0->1 aa=0\n",
    "                num = a[aa] #num1->3 aa=2\n",
    "                key = aa #key=2, num=3    # max(a)\n",
    "        if num == a[0]:\n",
    "            a.pop(0)\n",
    "        else :\n",
    "            for i in range(key):#삭제\n",
    "                sum += (num - a[0])\n",
    "                a.pop(0)\n",
    "            a.pop(0)\n",
    "        num = 0\n",
    "    print(f'#{tt+1} {sum}')"
   ]
  },
  {
   "cell_type": "code",
   "execution_count": null,
   "metadata": {},
   "outputs": [],
   "source": [
    "n = input()\n",
    "     #3\n",
    "for tt in range(int(n)):\n",
    "    m = input()\n",
    "    num = 0\n",
    "    o = input() # 10 7 6\n",
    "    sum = 0\n",
    "    key = 0\n",
    "    a = list(map(int, o.split()))#[1 1 3 1 2]\n",
    "    while a != []:\n",
    "         #num0->1 aa=0\n",
    "        num = max(a) #num1->3 aa=2 #key=2, num=3    # max(a)\n",
    "        if num == a[0]:\n",
    "            a.pop(0)\n",
    "        else :\n",
    "            for i in range(a.index(num)):#삭제\n",
    "                sum += (num - a[0])\n",
    "                a.pop(0)\n",
    "            a.pop(0)\n",
    "        num = 0\n",
    "    print(f'#{tt+1} {sum}')"
   ]
  },
  {
   "cell_type": "code",
   "execution_count": null,
   "metadata": {},
   "outputs": [],
   "source": [
    "n = input()\n",
    "     #3\n",
    "for tt in range(int(n)):\n",
    "    m = input()\n",
    "    num = 0\n",
    "    o = input() # 10 7 6\n",
    "    sum = 0\n",
    "    key = 0\n",
    "    a = list(map(int, o.split()))#[1 1 3 1 2]\n",
    "    b = []\n",
    "    c = a[:]\n",
    "    d = []\n",
    "    while c != []:\n",
    "         #num0->1 aa=0\n",
    "        num = max(c) #num1->3 aa=2 #key=2, num=3    # max(a)\n",
    "        b = c[0:c.index(num)+1]\n",
    "        c = c[c.index(num)+1:]\n",
    "          \n",
    "        if c == [] or num != c[0]:\n",
    "            for i in b:#삭제\n",
    "                sum += (num - i)\n",
    "        else :\n",
    "            c.pop(0)\n",
    "        num = 0\n",
    "    print(f'#{tt+1} {sum}')"
   ]
  },
  {
   "cell_type": "code",
   "execution_count": null,
   "metadata": {},
   "outputs": [],
   "source": [
    "n = input()\n",
    "     #3\n",
    "for tt in range(int(n)):\n",
    "    m = input()\n",
    "    num = 0\n",
    "    o = input() # 10 7 6\n",
    "    sum = 0\n",
    "    key = 0\n",
    "    a = list(map(int, o.split()))#[1 1 3 1 2]\n",
    "    b = []\n",
    "    d = []\n",
    "    while a != []:\n",
    "         #num0->1 aa=0\n",
    "        num = max(a) #num1->3 aa=2 #key=2, num=3    # max(a)\n",
    "        b = a[0:a.index(num)+1]\n",
    "        a = a[a.index(num)+1:]\n",
    "          \n",
    "        if a == [] or num != a[0]:\n",
    "            for i in b:#삭제\n",
    "                sum += (num - i)\n",
    "        else :\n",
    "            a.pop(0)\n",
    "        num = 0\n",
    "    print(f'#{tt+1} {sum}')"
   ]
  },
  {
   "cell_type": "code",
   "execution_count": null,
   "metadata": {
    "scrolled": true
   },
   "outputs": [],
   "source": [
    "n = input()\n",
    "     #3\n",
    "for tt in range(int(n)):\n",
    "    m = input()\n",
    "    o = input() # 10 7 6\n",
    "    sum = 0\n",
    "    a = list(map(int, o.split()))#[1 1 3 1 2]\n",
    "    num = 0\n",
    "    for i in range(len(a)-1,-1,-1):\n",
    "        if a[i] < num:\n",
    "            sum += (num - a[i])\n",
    "        else :\n",
    "            num = a[i]\n",
    "    num = 0\n",
    "    print(f'#{tt+1} {sum}')"
   ]
  },
  {
   "cell_type": "code",
   "execution_count": null,
   "metadata": {},
   "outputs": [],
   "source": [
    "n = input()\n",
    "     #3\n",
    "for tt in range(int(n)):\n",
    "    m = input()\n",
    "    o = input() # 10 7 6\n",
    "    sum = 0\n",
    "    a = [int(x) for x in o[::-1].split()]#[1 1 3 1 2]\n",
    "    num = 0\n",
    "    for i in range(len(a)-1,-1,-1):\n",
    "        if a[i] < num:\n",
    "            sum += (num - a[i])\n",
    "        else :\n",
    "            num = a[i]\n",
    "    num = 0\n",
    "    print(f'#{tt+1} {sum}')"
   ]
  },
  {
   "cell_type": "code",
   "execution_count": null,
   "metadata": {},
   "outputs": [],
   "source": [
    "t = int(input())\n",
    "for tc in range(t):\n",
    "    n = int(input())\n",
    "    m = list(map(int, input().split()))\n",
    "    result = 0\n",
    "    while m!=[]:\n",
    "        for i in range(m.index(max(m))+1):\n",
    "            result += max(m) - m[i]\n",
    "        m = m[m.index(max(m))+1:]\n",
    "    print(f'#{tc+1} {result}')"
   ]
  },
  {
   "cell_type": "code",
   "execution_count": null,
   "metadata": {
    "scrolled": true
   },
   "outputs": [],
   "source": [
    "n = input()\n",
    "for tt in range(int(n)):\n",
    "    m = input()\n",
    "    o = input() # 10 7 6\n",
    "    sum = 0\n",
    "    a = [int(x) for x in o[::-1].split()]\n",
    "    num = 0\n",
    "    for i in a:\n",
    "        if i < num:\n",
    "            sum += (num - i)\n",
    "        else :\n",
    "            num = i\n",
    "    print(f'#{tt+1} {sum}')"
   ]
  },
  {
   "cell_type": "code",
   "execution_count": null,
   "metadata": {},
   "outputs": [],
   "source": [
    "n = input()\n",
    "     \n",
    "for tt in range(int(n)):\n",
    "    m = input()\n",
    "    o = input() \n",
    "    sum = 0\n",
    "    a = list(map(int, o.split()))#[1 1 3 1 2]\n",
    "    num = 0\n",
    "    for i in range(int(m)-1,-1,-1):\n",
    "        if a[i] < num:\n",
    "            sum += (num - a[i])\n",
    "        else :\n",
    "            num = a[i]\n",
    "    num = 0\n",
    "    print(f'#{tt+1} {sum}')"
   ]
  },
  {
   "cell_type": "code",
   "execution_count": 3,
   "metadata": {},
   "outputs": [
    {
     "name": "stdout",
     "output_type": "stream",
     "text": [
      "3\n",
      "3\n",
      "10 7 6\n",
      "#1 0\n",
      "3\n",
      "3 5 9\n",
      "#2 10\n",
      "5\n",
      "1 1 3 1 2\n",
      "#3 5\n"
     ]
    }
   ],
   "source": [
    "t = int(input())\n",
    "for tc in range(t):\n",
    "    n = int(input())\n",
    "    m = list(map(int, input().split()))\n",
    "    result = 0\n",
    "    nn = n-1\n",
    "    for i in range(n-1,-1,-1):\n",
    "        if m[i] >= m[nn]:\n",
    "            nn = m.index(m[i])\n",
    "        result += m[nn] - m[i]\n",
    "    print(f'#{tc+1} {result}')"
   ]
  },
  {
   "cell_type": "code",
   "execution_count": null,
   "metadata": {},
   "outputs": [],
   "source": [
    "n = int(input())\n",
    "cnt=0\n",
    "for i in range(n):\n",
    "    result =0\n",
    "    day=int(input())\n",
    "    a = list(map(int,input().split(' ')))\n",
    "    cnt +=1\n",
    "    c=day-1\n",
    "    for j in range(day-1,-1,-1):\n",
    "        if a[j] >= a[c]:\n",
    "            c=a.index(a[j])\n",
    "        result += a[c]-a[j]\n",
    "    print(f\"#{cnt} {result}\")"
   ]
  },
  {
   "cell_type": "markdown",
   "metadata": {},
   "source": [
    "# 1945. 간단한 소인수분해"
   ]
  },
  {
   "cell_type": "code",
   "execution_count": null,
   "metadata": {},
   "outputs": [],
   "source": [
    "n = input()\n",
    "di = [2, 3, 5, 7, 11]\n",
    "\n",
    "for tt in range(int(n)):\n",
    "    c = [0, 0, 0, 0, 0]\n",
    "    m = int(input())\n",
    "    b = []\n",
    "    i = 0\n",
    "    while i < 5 :\n",
    "        if m % di[i] == 0 :\n",
    "            c[i] += 1\n",
    "            if m == 1 :\n",
    "                break\n",
    "            m //= di[i]\n",
    "        else :\n",
    "            i += 1\n",
    "        \n",
    "    print(f'#{tt+1} {c[0]} {c[1]} {c[2]} {c[3]} {c[4]}')"
   ]
  },
  {
   "cell_type": "markdown",
   "metadata": {},
   "source": [
    "# 1974. 스도쿠 검증"
   ]
  },
  {
   "cell_type": "code",
   "execution_count": null,
   "metadata": {},
   "outputs": [],
   "source": [
    "t = int(input())\n",
    "for i in range(t):\n",
    "    result = 0\n",
    "    a = []\n",
    "    b = [[],[],[],[],[],[],[],[],[]]\n",
    "    c = [[],[],[],[],[],[],[],[],[]]\n",
    "    d = [[],[],[],[],[],[],[],[],[]]\n",
    "    for ii in range(9):\n",
    "        a.append(list(map(int, input().split())))\n",
    "\n",
    "    d[0].append(a[0][0])\n",
    "    d[0].append(a[0][1])\n",
    "    d[0].append(a[0][2])\n",
    "    d[0].append(a[1][0])\n",
    "    d[0].append(a[1][1])\n",
    "    d[0].append(a[1][2])\n",
    "    d[0].append(a[2][0])\n",
    "    d[0].append(a[2][1])\n",
    "    d[0].append(a[2][2])\n",
    "\n",
    "    d[1].append(a[3][0])\n",
    "    d[1].append(a[3][1])\n",
    "    d[1].append(a[3][2])\n",
    "    d[1].append(a[4][0])\n",
    "    d[1].append(a[4][1])\n",
    "    d[1].append(a[4][2])\n",
    "    d[1].append(a[5][0])\n",
    "    d[1].append(a[5][1])\n",
    "    d[1].append(a[5][2])\n",
    "\n",
    "    d[2].append(a[6][0])\n",
    "    d[2].append(a[6][1])\n",
    "    d[2].append(a[6][2])\n",
    "    d[2].append(a[7][0])\n",
    "    d[2].append(a[7][1])\n",
    "    d[2].append(a[7][2])\n",
    "    d[2].append(a[8][0])\n",
    "    d[2].append(a[8][1])\n",
    "    d[2].append(a[8][2])\n",
    "\n",
    "    d[3].append(a[0][3])\n",
    "    d[3].append(a[0][4])\n",
    "    d[3].append(a[0][5])\n",
    "    d[3].append(a[1][3])\n",
    "    d[3].append(a[1][4])\n",
    "    d[3].append(a[1][5])\n",
    "    d[3].append(a[2][3])\n",
    "    d[3].append(a[2][4])\n",
    "    d[3].append(a[2][5])\n",
    "\n",
    "    d[4].append(a[3][3])\n",
    "    d[4].append(a[3][4])\n",
    "    d[4].append(a[3][5])\n",
    "    d[4].append(a[4][3])\n",
    "    d[4].append(a[4][4])\n",
    "    d[4].append(a[4][5])\n",
    "    d[4].append(a[5][3])\n",
    "    d[4].append(a[5][4])\n",
    "    d[4].append(a[5][5])\n",
    "\n",
    "    d[5].append(a[6][3])\n",
    "    d[5].append(a[6][4])\n",
    "    d[5].append(a[6][5])\n",
    "    d[5].append(a[7][3])\n",
    "    d[5].append(a[7][4])\n",
    "    d[5].append(a[7][5])\n",
    "    d[5].append(a[8][3])\n",
    "    d[5].append(a[8][4])\n",
    "    d[5].append(a[8][5])\n",
    "\n",
    "    d[6].append(a[0][6])\n",
    "    d[6].append(a[0][7])\n",
    "    d[6].append(a[0][8])\n",
    "    d[6].append(a[1][6])\n",
    "    d[6].append(a[1][7])\n",
    "    d[6].append(a[1][8])\n",
    "    d[6].append(a[2][6])\n",
    "    d[6].append(a[2][7])\n",
    "    d[6].append(a[2][8])\n",
    "\n",
    "    d[7].append(a[3][6])\n",
    "    d[7].append(a[3][7])\n",
    "    d[7].append(a[3][8])\n",
    "    d[7].append(a[4][6])\n",
    "    d[7].append(a[4][7])\n",
    "    d[7].append(a[4][8])\n",
    "    d[7].append(a[5][6])\n",
    "    d[7].append(a[5][7])\n",
    "    d[7].append(a[5][8])\n",
    "\n",
    "    d[8].append(a[6][6])\n",
    "    d[8].append(a[6][7])\n",
    "    d[8].append(a[6][8])\n",
    "    d[8].append(a[7][6])\n",
    "    d[8].append(a[7][7])\n",
    "    d[8].append(a[7][8])\n",
    "    d[8].append(a[8][6])\n",
    "    d[8].append(a[8][7])\n",
    "    d[8].append(a[8][8])\n",
    "\n",
    "    for j in range(9):\n",
    "        for jj in range(9):\n",
    "            b[j].append(a[j][jj])\n",
    "            c[j].append(a[jj][j])\n",
    "    for tt in range(9):\n",
    "        if len(set(d[tt]))==9 and len(set(b[tt]))==9 and len(set(c[tt]))==9:\n",
    "            result = 1\n",
    "        else:\n",
    "            result = 0\n",
    "            break\n",
    "    print(f'#{i+1} {result}')"
   ]
  },
  {
   "cell_type": "code",
   "execution_count": null,
   "metadata": {},
   "outputs": [],
   "source": [
    "y=[1,2,3,4,5,6,7,8,9]\n",
    "for i in range(int(input())):\n",
    "        a=[list(map(int,input().split())) for i in range(9)]\n",
    "        b=list(zip(*a))\n",
    "        t=0\n",
    "        for j in range(9):\n",
    "                if sorted(a[j])==y and sorted(b[j])==y:\n",
    "                        t+=1\n",
    "        for m in range(0,9,3):\n",
    "                for k in range(0,9,3):\n",
    "                        c=a[m][k:k+3]+a[m+1][k:k+3]+a[m+2][k:k+3]\n",
    "                        if sorted(c)==y:\n",
    "                                t+=1\n",
    "        [print(f'#{i+1} 1')if t==18 else print(f'#{i+1} 0')]"
   ]
  },
  {
   "cell_type": "markdown",
   "metadata": {},
   "source": [
    "# 1926. 간단한 369게임"
   ]
  },
  {
   "cell_type": "code",
   "execution_count": null,
   "metadata": {},
   "outputs": [],
   "source": [
    "n = int(input())\n",
    "s = ''\n",
    "\n",
    "for i in range(1,n+1):\n",
    "    cnt = 0\n",
    "    if '3' in str(i):\n",
    "        cnt += str(i).count('3')\n",
    "        cnt += str(i).count('6')\n",
    "        cnt += str(i).count('9')\n",
    "        s += '-'*cnt + ' '\n",
    "    elif '6' in str(i):\n",
    "        cnt += str(i).count('3')\n",
    "        cnt += str(i).count('6')\n",
    "        cnt += str(i).count('9')\n",
    "        s += '-'*cnt + ' '\n",
    "    elif '9' in str(i):\n",
    "        cnt += str(i).count('3')\n",
    "        cnt += str(i).count('6')\n",
    "        cnt += str(i).count('9')\n",
    "        s += '-'*cnt + ' '\n",
    "    else:\n",
    "        s += str(i) + ' '\n",
    "print(s)"
   ]
  },
  {
   "cell_type": "markdown",
   "metadata": {},
   "source": [
    "# 2007. 패턴 마디의 길이"
   ]
  },
  {
   "cell_type": "code",
   "execution_count": null,
   "metadata": {},
   "outputs": [],
   "source": [
    "n = int(input())\n",
    "for i in range(n):\n",
    "    s = input()\n",
    "    ss = ''\n",
    "    for ii in range(len(s)):\n",
    "        if (s[ii] in ss and s.index(s[ii])==0) and (s[ii+1] in ss and s.index(s[ii+1])==1):\n",
    "            break\n",
    "        else :\n",
    "            ss += s[ii]\n",
    "    result = len(ss)\n",
    "    print(f'#{i+1} {result}')"
   ]
  },
  {
   "cell_type": "markdown",
   "metadata": {},
   "source": [
    "# 1986. 지그재그 숫자"
   ]
  },
  {
   "cell_type": "code",
   "execution_count": null,
   "metadata": {},
   "outputs": [],
   "source": [
    "n = int(input())\n",
    "for i in range(n):\n",
    "    m = int(input())\n",
    "    result = 0\n",
    "    for ii in range(1,m+1):\n",
    "        if ii%2==1:\n",
    "            result += ii\n",
    "        else:\n",
    "            result -= ii\n",
    "    print(f'#{i+1} {result}')"
   ]
  },
  {
   "cell_type": "markdown",
   "metadata": {},
   "source": [
    "# 1983. 조교의 성적 매기기"
   ]
  },
  {
   "cell_type": "code",
   "execution_count": null,
   "metadata": {
    "scrolled": true
   },
   "outputs": [],
   "source": [
    "t = int(input())\n",
    "for tc in range(t):\n",
    "    tt = list(map(int, input().split()))\n",
    "    n = tt[0] #학생수\n",
    "    k = tt[1] #학점이 궁금한 학생 번호\n",
    "    score = [0] * n\n",
    "    result = [0] * n\n",
    "    for ii in range(n):\n",
    "        score = list(map(float, input().split())) # 중간 기말 과제\n",
    "        result[ii]  = (score[0]*0.35 + score[1]*0.45 + score[2]*0.20)\n",
    "    student = result[k-1]\n",
    "    result.sort()\n",
    "    que = result.index(student)+1\n",
    "    last = '0'\n",
    "    if 0<que<=n/10:\n",
    "        last = 'D0'\n",
    "    elif n/10<que<=2*n/10:\n",
    "        last = 'C-'\n",
    "    elif 2*n/10<que<=3*n/10:\n",
    "        last = 'C0'\n",
    "    elif 3*n/10<que<=4*n/10:\n",
    "        last = 'C+'\n",
    "    elif 4*n/10<que<=5*n/10:\n",
    "        last = 'B-'\n",
    "    elif 5*n/10<que<=6*n/10:\n",
    "        last = 'B0'\n",
    "    elif 6*n/10<que<=7*n/10:\n",
    "        last = 'B+'\n",
    "    elif 7*n/10<que<=8*n/10:\n",
    "        last = 'A-'\n",
    "    elif 8*n/10<que<=9*n/10:\n",
    "        last = 'A0'\n",
    "    elif 9*n/10<que<=n:\n",
    "        last = 'A+'\n",
    "        \n",
    "    print(f'#{tc+1} {last}')"
   ]
  },
  {
   "cell_type": "markdown",
   "metadata": {},
   "source": [
    "# 1989. 초심자의 회문 검사"
   ]
  },
  {
   "cell_type": "code",
   "execution_count": null,
   "metadata": {
    "scrolled": true
   },
   "outputs": [],
   "source": [
    "n = int(input())\n",
    "for i in range(n):\n",
    "    word = input()\n",
    "    t = len(word)//2\n",
    "    for ii in range(t):\n",
    "        if word[ii] != word[-1-ii]:\n",
    "            result = 0\n",
    "            break\n",
    "        result = 1\n",
    "    print(f'#{i+1} {result}')"
   ]
  },
  {
   "cell_type": "markdown",
   "metadata": {},
   "source": [
    "# 2005. 파스칼의 삼각형"
   ]
  },
  {
   "cell_type": "code",
   "execution_count": null,
   "metadata": {
    "scrolled": true
   },
   "outputs": [],
   "source": [
    "def pascal(n):\n",
    "    s = [1]*n\n",
    "    if n==1:\n",
    "        s[0] = 1\n",
    "    elif n==2:\n",
    "        pascal(1)\n",
    "        s[0] = 1\n",
    "        s[1] = 1\n",
    "    else:\n",
    "        pascal(n-1)\n",
    "        s[0] = 1\n",
    "        s[-1] = 1\n",
    "        for i in range(1, n-1):\n",
    "            s[i] = pascal(n-1)[i-1] + pascal(n-1)[i]\n",
    "    return s\n",
    "\n",
    "tc = int(input())\n",
    "for t in range(tc):\n",
    "    n = int(input())\n",
    "    print(f'#{t+1}')\n",
    "    for i in range(n):\n",
    "        for ii in range(i+1):\n",
    "            if ii != i:\n",
    "                print(pascal(i+1)[ii], end=' ')\n",
    "            else :\n",
    "                print(pascal(i+1)[ii], end='\\n')"
   ]
  },
  {
   "cell_type": "code",
   "execution_count": null,
   "metadata": {},
   "outputs": [],
   "source": [
    "tc = int(input())\n",
    "for t in range(tc):\n",
    "    n = int(input())\n",
    "    print(f'#{t+1}')\n",
    "    for i in range(1, n+1):\n",
    "        s = ''\n",
    "        li = [1]*i\n",
    "        if i==1 or i==2:\n",
    "            save = li\n",
    "            for a in range(i):\n",
    "                s += str(li[a]) + ' '\n",
    "            print(s)\n",
    "        else :\n",
    "            for ii in range(1, i-1):\n",
    "                li[ii] = save[ii-1] + save[ii]\n",
    "            save = li\n",
    "            for a in range(i):\n",
    "                s += str(li[a]) + ' '\n",
    "            print(s)"
   ]
  },
  {
   "cell_type": "markdown",
   "metadata": {},
   "source": [
    "# 2001. 파리 퇴치"
   ]
  },
  {
   "cell_type": "code",
   "execution_count": null,
   "metadata": {
    "scrolled": true
   },
   "outputs": [],
   "source": [
    "t = int(input())\n",
    "for tc in range(t):\n",
    "    n, m = map(int, input().split())\n",
    "    a = []\n",
    "    result = []\n",
    "    for i in range(n):\n",
    "        nn = input().split()\n",
    "        a.append(nn)\n",
    "    for ii in range(n-m+1):\n",
    "        tmp = 0\n",
    "        for iii in range(m):\n",
    "            for iiii in range(m):\n",
    "                tmp += int(a[ii+iii][ii+iiii])\n",
    "        result.append(tmp)\n",
    "    for ii in range(n-m+1):\n",
    "        for bb in range(n-m+1):\n",
    "            tmp = 0\n",
    "            for iii in range(m):\n",
    "                for iiii in range(m):\n",
    "                    tmp += int(a[ii+iiii][bb+iii])\n",
    "            result.append(tmp)\n",
    "    print(f'#{tc+1} {max(result)}')"
   ]
  },
  {
   "cell_type": "markdown",
   "metadata": {},
   "source": [
    "# 1984. 중간 평균값 구하기"
   ]
  },
  {
   "cell_type": "code",
   "execution_count": null,
   "metadata": {},
   "outputs": [],
   "source": [
    "t = int(input())\n",
    "\n",
    "for tc in range(t):\n",
    "    n = list(map(int,input().split()))\n",
    "    sum = 0\n",
    "    n.pop(n.index(max(n)))\n",
    "    n.pop(n.index(min(n)))\n",
    "    for i in n:\n",
    "        sum += i\n",
    "    sum = round(sum/len(n))\n",
    "    print(f'#{tc+1} {sum}')"
   ]
  },
  {
   "cell_type": "markdown",
   "metadata": {},
   "source": [
    "# 1979. 어디에 단어가 들어갈 수 있을까"
   ]
  },
  {
   "cell_type": "code",
   "execution_count": null,
   "metadata": {},
   "outputs": [],
   "source": [
    "t = int(input())\n",
    "\n",
    "for tc in range(t):\n",
    "    n, k = input().split()\n",
    "    n = int(n)\n",
    "    k = int(k)\n",
    "    s = ''\n",
    "    sss = ''\n",
    "    result = 0\n",
    "    key = '1'*k\n",
    "    for i in range(n):\n",
    "        m = input().split()\n",
    "        for ii in range(len(m)):\n",
    "            s += m[ii]\n",
    "        s += 'a'\n",
    "    ss = s\n",
    "    \n",
    "    for u in range(n-k,0,-1):\n",
    "        string = '1'*(k+u)\n",
    "        ss = ss.replace(string,'b')\n",
    "    result += ss.count(key)\n",
    "    \n",
    "    for y in range((len(s)//(n+1))):\n",
    "        sss += s[y:len(s):n+1]\n",
    "        sss += 'a'\n",
    "    \n",
    "    for uu in range(1,n-k+1):\n",
    "        string = '1'*(k+uu)\n",
    "        sss = sss.replace(string,'b')\n",
    "    result += sss.count(key)\n",
    "    \n",
    "    print(f'#{tc+1} {result}')"
   ]
  },
  {
   "cell_type": "markdown",
   "metadata": {},
   "source": [
    "# 1954. 달팽이 숫자"
   ]
  },
  {
   "cell_type": "code",
   "execution_count": null,
   "metadata": {},
   "outputs": [],
   "source": [
    "t = int(input())\n",
    "for tc in range(t):\n",
    "    n = int(input())\n",
    "    a = []\n",
    "    for q in range(n):\n",
    "        a.append([0]*n)\n",
    "    cnt = 1\n",
    "    i = 0\n",
    "    ii = 0\n",
    "    p = 0\n",
    "    for t in range(n,0,-2):\n",
    "        for b in range(t-1):\n",
    "            a[i][ii] = cnt\n",
    "            ii += 1\n",
    "            cnt += 1\n",
    "        for c in range(t-1):\n",
    "            a[i][ii] = cnt\n",
    "            i += 1\n",
    "            cnt += 1\n",
    "        for d in range(t-1):\n",
    "            a[i][ii] = cnt\n",
    "            ii -= 1\n",
    "            cnt += 1\n",
    "        for e in range(t-1):\n",
    "            a[i][ii] = cnt\n",
    "            i -= 1\n",
    "            cnt += 1\n",
    "        i += 1\n",
    "        ii += 1\n",
    "    if n%2==0:\n",
    "        print(f'#{tc+1}')\n",
    "        for i in range(len(a)):\n",
    "            result = ''\n",
    "            for ii in range(len(a)):\n",
    "                result += str(a[i][ii]) + ' '\n",
    "            print(result)\n",
    "    else:\n",
    "        a[n//2][n//2] = cnt\n",
    "        print(f'#{tc+1}')\n",
    "        for i in range(len(a)):\n",
    "            result = ''\n",
    "            for ii in range(len(a)):\n",
    "                result += str(a[i][ii]) + ' '\n",
    "            print(result)"
   ]
  },
  {
   "cell_type": "markdown",
   "metadata": {},
   "source": [
    "# 1976. 시각 덧셈"
   ]
  },
  {
   "cell_type": "code",
   "execution_count": null,
   "metadata": {},
   "outputs": [],
   "source": [
    "t = int(input())\n",
    "for tc in range(t):\n",
    "    a = list(map(int, input().split()))\n",
    "    h1 = a[0]\n",
    "    h2 = a[2]\n",
    "    m1 = a[1]\n",
    "    m2 = a[3]\n",
    "    m = m1 + m2\n",
    "    h = h1 + h2\n",
    "    if m>=60:\n",
    "        m -= 60\n",
    "        h += 1\n",
    "    if h>=13:\n",
    "        h -= 12\n",
    "    print(f'#{tc+1} {h} {m}')"
   ]
  },
  {
   "cell_type": "markdown",
   "metadata": {},
   "source": [
    "# 1970. 쉬운 거스름돈"
   ]
  },
  {
   "cell_type": "code",
   "execution_count": null,
   "metadata": {},
   "outputs": [],
   "source": [
    "t = int(input())\n",
    "money = [50000, 10000, 5000, 1000, 500, 100, 50, 10]\n",
    "for tc in range(t):\n",
    "    a = [0]*8\n",
    "    result = ''\n",
    "    n = int(input())\n",
    "    for i in range(8):\n",
    "        a[i] = n//money[i]\n",
    "        n = n - money[i]*a[i]\n",
    "        if n==0:\n",
    "            break\n",
    "    print(f'#{tc+1}')\n",
    "    for ii in range(8):\n",
    "        result += str(a[ii]) + ' '\n",
    "    print(result)"
   ]
  },
  {
   "cell_type": "markdown",
   "metadata": {},
   "source": [
    "# 1966. 숫자를 정렬하자"
   ]
  },
  {
   "cell_type": "code",
   "execution_count": null,
   "metadata": {
    "scrolled": true
   },
   "outputs": [],
   "source": [
    "t = int(input())\n",
    "for tc in range(t):\n",
    "    n = int(input())\n",
    "    s = f'#{tc+1} '\n",
    "    numbers = list(map(int, input().split()))\n",
    "    numbers.sort()\n",
    "    for i in range(n):\n",
    "        s += str(numbers[i]) + ' '\n",
    "    print(s)"
   ]
  },
  {
   "cell_type": "markdown",
   "metadata": {},
   "source": [
    "# 1959. 두 개의 숫자열"
   ]
  },
  {
   "cell_type": "code",
   "execution_count": null,
   "metadata": {
    "scrolled": true
   },
   "outputs": [],
   "source": [
    "t = int(input())\n",
    "for tc in range(t):\n",
    "    n, m = map(int, input().split())\n",
    "    n_num = list(map(int, input().split()))\n",
    "    m_num = list(map(int, input().split()))\n",
    "    result = []\n",
    "    if n <= m :#3 5 \n",
    "        a = m\n",
    "        a_num = m_num\n",
    "        b = n\n",
    "        b_num = n_num\n",
    "    else:\n",
    "        a = n\n",
    "        a_num = n_num\n",
    "        b = m\n",
    "        b_num = m_num\n",
    "    for i in range(a-b+1):#3번\n",
    "        sum_num = 0\n",
    "        for ii in range(b):\n",
    "            sum_num += b_num[ii]*a_num[i+ii]\n",
    "        result.append(sum_num)\n",
    "    print(f'#{tc+1} {max(result)}')"
   ]
  },
  {
   "cell_type": "markdown",
   "metadata": {},
   "source": [
    "# 1961. 숫자 배열 회전"
   ]
  },
  {
   "cell_type": "code",
   "execution_count": null,
   "metadata": {},
   "outputs": [],
   "source": [
    "t = int(input())\n",
    "for tc in range(t):\n",
    "    n = int(input())\n",
    "    m = []\n",
    "    a = []#m을90회전=a\n",
    "    b = []#a를90회전=b\n",
    "    c = []#a를90회전=c\n",
    "    for q in range(n):\n",
    "        m.append([0]*n)\n",
    "        a.append([0]*n)\n",
    "        b.append([0]*n)\n",
    "        c.append([0]*n)\n",
    "    for i in range(n): \n",
    "        numbers = list(map(int, input().split()))\n",
    "        m[i] = numbers\n",
    "        \n",
    "    for i in range(n):#90도\n",
    "        for j in range(n):\n",
    "            a[i][j] = m[n-j-1][i]   \n",
    "    \n",
    "    for i in range(n):#180도\n",
    "        for j in range(n):\n",
    "            b[i][j] = m[n-i-1][n-j-1]\n",
    "            #if i<j:\n",
    "            #b[i][j],b[j][i] = b[j][i],b[i][j]\n",
    "        \n",
    "    for i in range(n):#270도\n",
    "        for j in range(n):\n",
    "            c[i][j] = m[j][n-i-1]\n",
    "    \n",
    "    print(f'#{tc+1}')\n",
    "    for k in range(n):\n",
    "        s = ''\n",
    "        for q in range(n):\n",
    "            s += str(a[k][q])\n",
    "        s += ' '\n",
    "        for w in range(n):\n",
    "            s += str(b[k][w])\n",
    "        s += ' '\n",
    "        for e in range(n):\n",
    "            s += str(c[k][e])\n",
    "        print(s)"
   ]
  },
  {
   "cell_type": "markdown",
   "metadata": {},
   "source": [
    "# 1946. 간단한 압축 풀기"
   ]
  },
  {
   "cell_type": "code",
   "execution_count": null,
   "metadata": {
    "scrolled": true
   },
   "outputs": [],
   "source": [
    "t = int(input())\n",
    "for tc in range(t):\n",
    "    n = int(input())\n",
    "    s = ''\n",
    "    print(f'#{tc+1}')\n",
    "    for i in range(n):\n",
    "        a, b = input().split()\n",
    "        for ii in range(int(b)):\n",
    "            s += a\n",
    "            if len(s)==10:\n",
    "                print(s)\n",
    "                s = ''\n",
    "    print(s)"
   ]
  },
  {
   "cell_type": "markdown",
   "metadata": {},
   "source": [
    "# 1948. 날짜 계산기"
   ]
  },
  {
   "cell_type": "code",
   "execution_count": 8,
   "metadata": {
    "scrolled": true
   },
   "outputs": [
    {
     "name": "stdout",
     "output_type": "stream",
     "text": [
      "3\n",
      "3 1 3 31\n",
      "#1 31\n",
      "5 5 8 15\n",
      "#2 103\n",
      "7 17 12 24\n",
      "#3 161\n"
     ]
    }
   ],
   "source": [
    "t = int(input())\n",
    "for tc in range(t):\n",
    "    mon = [31, 28, 31, 30, 31, 30, 31, 31, 30, 31, 30, 31]\n",
    "    m1, d1, m2, d2 = map(int, input().split())\n",
    "    result2 = 0\n",
    "    for i in range(m1,m2):\n",
    "        result2 += mon[i-1]\n",
    "    result2 += d2\n",
    "    result = result2 - d1\n",
    "    \n",
    "    print(f'#{tc+1} {result+1}')"
   ]
  },
  {
   "cell_type": "markdown",
   "metadata": {},
   "source": [
    "# 6190. 정곤이의 단조 증가하는 수"
   ]
  },
  {
   "cell_type": "code",
   "execution_count": 39,
   "metadata": {},
   "outputs": [
    {
     "name": "stdout",
     "output_type": "stream",
     "text": [
      "1\n",
      "4\n",
      "2 4 7 10\n",
      "[8, 14, 20, 28, 40, 70]\n",
      "#1 28\n"
     ]
    }
   ],
   "source": [
    "t = int(input())\n",
    "for tc in range(t):\n",
    "    n = int(input())\n",
    "    num = list(map(int, input().split()))\n",
    "    a = []\n",
    "    result = -1\n",
    "    check=0\n",
    "    d = []\n",
    "    for i in range(n-1):\n",
    "        for ii in range(i+1,n):\n",
    "            a.append(num[i]*num[ii])\n",
    "    for p in range(len(a)):\n",
    "        if len(str(a[p]))==1:\n",
    "            if a[p]>result:\n",
    "                result=a[p]\n",
    "        else:\n",
    "            b = []\n",
    "            for o in range(len(str(a[p]))):\n",
    "                b.append(str(a[p])[o])\n",
    "            for oo in range(len(b)):\n",
    "                b[oo] = int(b[oo])\n",
    "            c = sorted(b)\n",
    "            if b==c:\n",
    "                s = ''\n",
    "                for r in range(len(b)):\n",
    "                    s += str(b[r])\n",
    "                    d.append(int(s))\n",
    "            result=max(d)\n",
    "    \n",
    "    print(f'#{tc+1} {result}')"
   ]
  }
 ],
 "metadata": {
  "kernelspec": {
   "display_name": "Python 3",
   "language": "python",
   "name": "python3"
  },
  "language_info": {
   "codemirror_mode": {
    "name": "ipython",
    "version": 3
   },
   "file_extension": ".py",
   "mimetype": "text/x-python",
   "name": "python",
   "nbconvert_exporter": "python",
   "pygments_lexer": "ipython3",
   "version": "3.6.7"
  },
  "toc": {
   "base_numbering": 1,
   "nav_menu": {},
   "number_sections": true,
   "sideBar": true,
   "skip_h1_title": false,
   "title_cell": "Table of Contents",
   "title_sidebar": "Contents",
   "toc_cell": false,
   "toc_position": {},
   "toc_section_display": true,
   "toc_window_display": false
  }
 },
 "nbformat": 4,
 "nbformat_minor": 2
}
