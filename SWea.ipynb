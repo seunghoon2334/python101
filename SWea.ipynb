{
 "cells": [
  {
   "cell_type": "markdown",
   "metadata": {},
   "source": [
    "# 2072. 홀수만 더하기"
   ]
  },
  {
   "cell_type": "code",
   "execution_count": null,
   "metadata": {
    "scrolled": true
   },
   "outputs": [],
   "source": [
    "n = input()\n",
    "for t in range(int(n)):\n",
    "    m = input()\n",
    "    sum = 0\n",
    "    a = list(map(int, m.split()))\n",
    "    \n",
    "    for i in a:\n",
    "        if i%2==1:\n",
    "            sum += i\n",
    "    \n",
    "    print(f'#{t+1} {sum}')"
   ]
  },
  {
   "cell_type": "markdown",
   "metadata": {},
   "source": [
    "# 2071. 평균값 구하기"
   ]
  },
  {
   "cell_type": "code",
   "execution_count": null,
   "metadata": {
    "scrolled": true
   },
   "outputs": [],
   "source": [
    "n = input()\n",
    "for t in range(int(n)):\n",
    "    m = input()\n",
    "    sum = 0\n",
    "    a = list(map(int, m.split()))\n",
    "    \n",
    "    for i in a:\n",
    "        sum += i\n",
    "    result = round(sum / len(a))\n",
    "    \n",
    "    print(f'#{t+1} {result}')"
   ]
  },
  {
   "cell_type": "markdown",
   "metadata": {},
   "source": [
    "# 2070. 큰 놈, 작은 놈, 같은 놈"
   ]
  },
  {
   "cell_type": "code",
   "execution_count": null,
   "metadata": {
    "scrolled": true
   },
   "outputs": [],
   "source": [
    "n = input()\n",
    "for t in range(int(n)):\n",
    "    m = input()\n",
    "    sum = 0\n",
    "    a = list(map(int, m.split()))\n",
    "    if a[0] > a[1]:\n",
    "        print(f'#{t+1} >')\n",
    "    elif a[0] == a[1]:\n",
    "        print(f'#{t+1} =')\n",
    "    else:\n",
    "        print(f'#{t+1} <')"
   ]
  },
  {
   "cell_type": "markdown",
   "metadata": {},
   "source": [
    "# 2068. 최대수 구하기"
   ]
  },
  {
   "cell_type": "code",
   "execution_count": null,
   "metadata": {},
   "outputs": [],
   "source": [
    "n = input()\n",
    "for t in range(int(n)):\n",
    "    m = input()\n",
    "    a = list(map(int, m.split()))\n",
    "    print(f'#{t+1} {max(a)}')"
   ]
  },
  {
   "cell_type": "markdown",
   "metadata": {},
   "source": [
    "# 2063. 중간값 찾기"
   ]
  },
  {
   "cell_type": "code",
   "execution_count": null,
   "metadata": {},
   "outputs": [],
   "source": [
    "n = int(input())\n",
    "m = input()\n",
    "a = list(map(int, m.split()))\n",
    "a.sort()\n",
    "print(a[n//2])"
   ]
  },
  {
   "cell_type": "markdown",
   "metadata": {},
   "source": [
    "# 2058. 자릿수 더하기"
   ]
  },
  {
   "cell_type": "code",
   "execution_count": null,
   "metadata": {},
   "outputs": [],
   "source": [
    "n = input()\n",
    "result = 0\n",
    "for i in n:\n",
    "    result += int(i)\n",
    "print(result)"
   ]
  },
  {
   "cell_type": "markdown",
   "metadata": {},
   "source": [
    "# 2056. 연월일 달력"
   ]
  },
  {
   "cell_type": "code",
   "execution_count": null,
   "metadata": {},
   "outputs": [],
   "source": [
    "m = input()\n",
    "for i in range(int(m)):\n",
    "    n = input()\n",
    "    b = 0\n",
    "    c = ''\n",
    "    if 1<=int(n[4]+n[5])<=12:\n",
    "        if 1<=int(n[6]+n[7])<=31:\n",
    "            b = 1\n",
    "            if int(n[6]+n[7])==30:\n",
    "                if int(n[4]+n[5])==4 or int(n[4]+n[5])==6 or int(n[4]+n[5])==9 or int(n[4]+n[5])==11: \n",
    "                    b = 1\n",
    "                else:\n",
    "                    b = 0\n",
    "            if int(n[6]+n[7])==28:\n",
    "                if int(n[4]+n[5])==2:\n",
    "                    b = 1\n",
    "                else:\n",
    "                    b = 0\n",
    "    if b==1 :\n",
    "        c = c + n[0] + n[1] + n[2] + n[3] + '/' + n[4] + n[5] + '/' + n[6] + n[7]\n",
    "    else :\n",
    "        c = '-1'\n",
    "    print(f'#{i+1} {c}')"
   ]
  },
  {
   "cell_type": "markdown",
   "metadata": {},
   "source": [
    "# 2050. 알파벳을 숫자로 변환"
   ]
  },
  {
   "cell_type": "code",
   "execution_count": null,
   "metadata": {},
   "outputs": [],
   "source": [
    "n = input()\n",
    "a = ['33', 'A','B','C','D','E','F','G','H','I','J','K','L','M','N','O','P','Q','R','S','T','U','V','W','X','Y','Z']\n",
    "b = []\n",
    "c = ''\n",
    "for i in n:\n",
    "    b.append(a.index(i))\n",
    "for ii in b:\n",
    "    c += str(ii)+' '\n",
    "print(c)"
   ]
  },
  {
   "cell_type": "markdown",
   "metadata": {},
   "source": [
    "# 2047. 신문 헤드라인"
   ]
  },
  {
   "cell_type": "code",
   "execution_count": null,
   "metadata": {},
   "outputs": [],
   "source": [
    "n = input()\n",
    "print(n.upper())"
   ]
  },
  {
   "cell_type": "markdown",
   "metadata": {},
   "source": [
    "# 2046. 스탬프 찍기"
   ]
  },
  {
   "cell_type": "code",
   "execution_count": null,
   "metadata": {},
   "outputs": [],
   "source": [
    "n = input()\n",
    "s = ''\n",
    "for i in range(int(n)):\n",
    "    s += '#'\n",
    "print(s)    "
   ]
  },
  {
   "cell_type": "markdown",
   "metadata": {},
   "source": [
    "# 2043. 서랍의 비밀번호"
   ]
  },
  {
   "cell_type": "code",
   "execution_count": null,
   "metadata": {},
   "outputs": [],
   "source": [
    "p, k = input().split()\n",
    "p = int(p)\n",
    "k = int(k)\n",
    "cnt = 1\n",
    "while p != k :\n",
    "    if k == 1000:\n",
    "        k = 0\n",
    "    k +=1\n",
    "    cnt += 1\n",
    "print(cnt)"
   ]
  },
  {
   "cell_type": "markdown",
   "metadata": {},
   "source": [
    "# 2029. 몫과 나머지 출력하기"
   ]
  },
  {
   "cell_type": "code",
   "execution_count": null,
   "metadata": {},
   "outputs": [],
   "source": [
    "n = int(input())\n",
    "for i in range(n):\n",
    "    m = input()\n",
    "    a = list(map(int, m.split()))\n",
    "    print(f'#{i+1} {a[0]//a[1]} {a[0]%a[1]}')"
   ]
  },
  {
   "cell_type": "markdown",
   "metadata": {},
   "source": [
    "# 2027. 대각선 출력하기"
   ]
  },
  {
   "cell_type": "code",
   "execution_count": null,
   "metadata": {},
   "outputs": [],
   "source": [
    "print('#++++')\n",
    "print('+#+++')\n",
    "print('++#++')\n",
    "print('+++#+')\n",
    "print('++++#')"
   ]
  },
  {
   "cell_type": "markdown",
   "metadata": {},
   "source": [
    "# 2025. N줄덧셈"
   ]
  },
  {
   "cell_type": "code",
   "execution_count": null,
   "metadata": {},
   "outputs": [],
   "source": [
    "n = int(input())\n",
    "sum = 0\n",
    "for i in range(n):\n",
    "    sum += i+1\n",
    "print(sum)"
   ]
  },
  {
   "cell_type": "markdown",
   "metadata": {},
   "source": [
    "# 1938. 아주 간단한 계산기"
   ]
  },
  {
   "cell_type": "code",
   "execution_count": null,
   "metadata": {},
   "outputs": [],
   "source": [
    "a, b = input().split()\n",
    "a = int(a)\n",
    "b = int(b)\n",
    "print(a+b)\n",
    "print(a-b)\n",
    "print(a*b)\n",
    "print(a//b)"
   ]
  },
  {
   "cell_type": "markdown",
   "metadata": {},
   "source": [
    "# 1933. 간단한 N의 약수"
   ]
  },
  {
   "cell_type": "code",
   "execution_count": null,
   "metadata": {},
   "outputs": [],
   "source": [
    "n = int(input())\n",
    "b = []\n",
    "c = ''\n",
    "for i in range(n):\n",
    "    if n//(i+1) == n/(i+1):\n",
    "        b.append(i+1)\n",
    "for ii in b:\n",
    "    c += str(ii)+' '\n",
    "print(c)"
   ]
  },
  {
   "cell_type": "markdown",
   "metadata": {},
   "source": [
    "# 1936. 1대1 가위바위보"
   ]
  },
  {
   "cell_type": "code",
   "execution_count": null,
   "metadata": {},
   "outputs": [],
   "source": [
    "p, k = input().split()\n",
    "p = int(p)\n",
    "k = int(k)\n",
    "print('A') if (p==1 and k==3) or (p==2 and k==1) or (p==3 and k==2) else print('B')"
   ]
  },
  {
   "cell_type": "markdown",
   "metadata": {},
   "source": [
    "# 2019. 더블더블"
   ]
  },
  {
   "cell_type": "code",
   "execution_count": null,
   "metadata": {},
   "outputs": [],
   "source": [
    "n = int(input())\n",
    "c = ''\n",
    "for i in range(n+1):\n",
    "    c += str(2**i)+' '\n",
    "print(c)"
   ]
  },
  {
   "cell_type": "markdown",
   "metadata": {},
   "source": [
    "# 1545. 거꾸로 출력해 보아요"
   ]
  },
  {
   "cell_type": "code",
   "execution_count": null,
   "metadata": {},
   "outputs": [],
   "source": [
    "n = int(input())\n",
    "c = ''\n",
    "for i in range(n,-1,-1):\n",
    "    c += str(i)+' '\n",
    "print(c)"
   ]
  },
  {
   "cell_type": "markdown",
   "metadata": {},
   "source": [
    "# 1859. 백만 장자 프로젝트"
   ]
  },
  {
   "cell_type": "code",
   "execution_count": null,
   "metadata": {},
   "outputs": [],
   "source": [
    "n = input()\n",
    "     #3\n",
    "for tt in range(int(n)):\n",
    "    m = input()\n",
    "    num = 0\n",
    "    o = input() # 10 7 6\n",
    "    sum = 0\n",
    "    key = 0\n",
    "    a = list(map(int, o.split()))#[1 1 3 1 2]\n",
    "    while a != []:\n",
    "        for aa in range(len(a)):#0 1 2 3 4\n",
    "            if num <= a[aa]: #num0->1 aa=0\n",
    "                num = a[aa] #num1->3 aa=2\n",
    "                key = aa #key=2, num=3    # max(a)\n",
    "        if num == a[0]:\n",
    "            a.pop(0)\n",
    "        else :\n",
    "            for i in range(key):#삭제\n",
    "                sum += (num - a[0])\n",
    "                a.pop(0)\n",
    "            a.pop(0)\n",
    "        num = 0\n",
    "    print(f'#{tt+1} {sum}')"
   ]
  },
  {
   "cell_type": "code",
   "execution_count": null,
   "metadata": {},
   "outputs": [],
   "source": [
    "n = input()\n",
    "     #3\n",
    "for tt in range(int(n)):\n",
    "    m = input()\n",
    "    num = 0\n",
    "    o = input() # 10 7 6\n",
    "    sum = 0\n",
    "    key = 0\n",
    "    a = list(map(int, o.split()))#[1 1 3 1 2]\n",
    "    while a != []:\n",
    "         #num0->1 aa=0\n",
    "        num = max(a) #num1->3 aa=2 #key=2, num=3    # max(a)\n",
    "        if num == a[0]:\n",
    "            a.pop(0)\n",
    "        else :\n",
    "            for i in range(a.index(num)):#삭제\n",
    "                sum += (num - a[0])\n",
    "                a.pop(0)\n",
    "            a.pop(0)\n",
    "        num = 0\n",
    "    print(f'#{tt+1} {sum}')"
   ]
  },
  {
   "cell_type": "code",
   "execution_count": null,
   "metadata": {},
   "outputs": [],
   "source": [
    "n = input()\n",
    "     #3\n",
    "for tt in range(int(n)):\n",
    "    m = input()\n",
    "    num = 0\n",
    "    o = input() # 10 7 6\n",
    "    sum = 0\n",
    "    key = 0\n",
    "    a = list(map(int, o.split()))#[1 1 3 1 2]\n",
    "    b = []\n",
    "    c = a[:]\n",
    "    d = []\n",
    "    while c != []:\n",
    "         #num0->1 aa=0\n",
    "        num = max(c) #num1->3 aa=2 #key=2, num=3    # max(a)\n",
    "        b = c[0:c.index(num)+1]\n",
    "        c = c[c.index(num)+1:]\n",
    "          \n",
    "        if c == [] or num != c[0]:\n",
    "            for i in b:#삭제\n",
    "                sum += (num - i)\n",
    "        else :\n",
    "            c.pop(0)\n",
    "        num = 0\n",
    "    print(f'#{tt+1} {sum}')"
   ]
  },
  {
   "cell_type": "code",
   "execution_count": null,
   "metadata": {},
   "outputs": [],
   "source": [
    "n = input()\n",
    "     #3\n",
    "for tt in range(int(n)):\n",
    "    m = input()\n",
    "    num = 0\n",
    "    o = input() # 10 7 6\n",
    "    sum = 0\n",
    "    key = 0\n",
    "    a = list(map(int, o.split()))#[1 1 3 1 2]\n",
    "    b = []\n",
    "    d = []\n",
    "    while a != []:\n",
    "         #num0->1 aa=0\n",
    "        num = max(a) #num1->3 aa=2 #key=2, num=3    # max(a)\n",
    "        b = a[0:a.index(num)+1]\n",
    "        a = a[a.index(num)+1:]\n",
    "          \n",
    "        if a == [] or num != a[0]:\n",
    "            for i in b:#삭제\n",
    "                sum += (num - i)\n",
    "        else :\n",
    "            a.pop(0)\n",
    "        num = 0\n",
    "    print(f'#{tt+1} {sum}')"
   ]
  },
  {
   "cell_type": "code",
   "execution_count": null,
   "metadata": {
    "scrolled": true
   },
   "outputs": [],
   "source": [
    "n = input()\n",
    "     #3\n",
    "for tt in range(int(n)):\n",
    "    m = input()\n",
    "    o = input() # 10 7 6\n",
    "    sum = 0\n",
    "    a = list(map(int, o.split()))#[1 1 3 1 2]\n",
    "    num = 0\n",
    "    for i in range(len(a)-1,-1,-1):\n",
    "        if a[i] < num:\n",
    "            sum += (num - a[i])\n",
    "        else :\n",
    "            num = a[i]\n",
    "    num = 0\n",
    "    print(f'#{tt+1} {sum}')"
   ]
  },
  {
   "cell_type": "code",
   "execution_count": null,
   "metadata": {},
   "outputs": [],
   "source": [
    "n = input()\n",
    "     #3\n",
    "for tt in range(int(n)):\n",
    "    m = input()\n",
    "    o = input() # 10 7 6\n",
    "    sum = 0\n",
    "    a = [int(x) for x in o[::-1].split()]#[1 1 3 1 2]\n",
    "    num = 0\n",
    "    for i in range(len(a)-1,-1,-1):\n",
    "        if a[i] < num:\n",
    "            sum += (num - a[i])\n",
    "        else :\n",
    "            num = a[i]\n",
    "    num = 0\n",
    "    print(f'#{tt+1} {sum}')"
   ]
  },
  {
   "cell_type": "code",
   "execution_count": null,
   "metadata": {},
   "outputs": [],
   "source": [
    "o = '1 1 1 2 2 3 4'\n",
    "len(map(int, o.split()))"
   ]
  },
  {
   "cell_type": "code",
   "execution_count": null,
   "metadata": {},
   "outputs": [],
   "source": [
    "a = [1, 2, 3]"
   ]
  },
  {
   "cell_type": "code",
   "execution_count": null,
   "metadata": {},
   "outputs": [],
   "source": [
    "max(a)"
   ]
  },
  {
   "cell_type": "code",
   "execution_count": null,
   "metadata": {},
   "outputs": [],
   "source": [
    "3\n",
    "10 7 6\n",
    "#1 0\n",
    "3\n",
    "3 5 9\n",
    "#2 10\n",
    "5\n",
    "1 1 3 1 2\n",
    "#3 5"
   ]
  },
  {
   "cell_type": "code",
   "execution_count": null,
   "metadata": {
    "scrolled": true
   },
   "outputs": [],
   "source": [
    "n = input()\n",
    "for tt in range(int(n)):\n",
    "    m = input()\n",
    "    o = input() # 10 7 6\n",
    "    sum = 0\n",
    "    a = [int(x) for x in o[::-1].split()]\n",
    "    num = 0\n",
    "    for i in a:\n",
    "        if i < num:\n",
    "            sum += (num - i)\n",
    "        else :\n",
    "            num = i\n",
    "    print(f'#{tt+1} {sum}')"
   ]
  },
  {
   "cell_type": "code",
   "execution_count": null,
   "metadata": {},
   "outputs": [],
   "source": [
    "n = input()\n",
    "     \n",
    "for tt in range(int(n)):\n",
    "    m = input()\n",
    "    o = input() \n",
    "    sum = 0\n",
    "    a = list(map(int, o.split()))#[1 1 3 1 2]\n",
    "    num = 0\n",
    "    for i in range(int(m)-1,-1,-1):\n",
    "        if a[i] < num:\n",
    "            sum += (num - a[i])\n",
    "        else :\n",
    "            num = a[i]\n",
    "    num = 0\n",
    "    print(f'#{tt+1} {sum}')"
   ]
  },
  {
   "cell_type": "markdown",
   "metadata": {},
   "source": [
    "# 1945. 간단한 소인수분해"
   ]
  },
  {
   "cell_type": "code",
   "execution_count": null,
   "metadata": {},
   "outputs": [],
   "source": [
    "n = input()\n",
    "di = [2, 3, 5, 7, 11]\n",
    "\n",
    "for tt in range(int(n)):\n",
    "    c = [0, 0, 0, 0, 0]\n",
    "    m = int(input())\n",
    "    b = []\n",
    "    i = 0\n",
    "    while i < 5 :\n",
    "        if m % di[i] == 0 :\n",
    "            c[i] += 1\n",
    "            if m == 1 :\n",
    "                break\n",
    "            m //= di[i]\n",
    "        else :\n",
    "            i += 1\n",
    "        \n",
    "    print(f'#{tt+1} {c[0]} {c[1]} {c[2]} {c[3]} {c[4]}')"
   ]
  },
  {
   "cell_type": "markdown",
   "metadata": {},
   "source": [
    "# 1974. 스도쿠 검증"
   ]
  },
  {
   "cell_type": "code",
   "execution_count": null,
   "metadata": {},
   "outputs": [],
   "source": [
    "t = int(input())\n",
    "for i in range(t):\n",
    "    result = 0\n",
    "    a = []\n",
    "    b = [[],[],[],[],[],[],[],[],[]]\n",
    "    c = [[],[],[],[],[],[],[],[],[]]\n",
    "    d = [[],[],[],[],[],[],[],[],[]]\n",
    "    for ii in range(9):\n",
    "        a.append(list(map(int, input().split())))\n",
    "\n",
    "    d[0].append(a[0][0])\n",
    "    d[0].append(a[0][1])\n",
    "    d[0].append(a[0][2])\n",
    "    d[0].append(a[1][0])\n",
    "    d[0].append(a[1][1])\n",
    "    d[0].append(a[1][2])\n",
    "    d[0].append(a[2][0])\n",
    "    d[0].append(a[2][1])\n",
    "    d[0].append(a[2][2])\n",
    "\n",
    "    d[1].append(a[3][0])\n",
    "    d[1].append(a[3][1])\n",
    "    d[1].append(a[3][2])\n",
    "    d[1].append(a[4][0])\n",
    "    d[1].append(a[4][1])\n",
    "    d[1].append(a[4][2])\n",
    "    d[1].append(a[5][0])\n",
    "    d[1].append(a[5][1])\n",
    "    d[1].append(a[5][2])\n",
    "\n",
    "    d[2].append(a[6][0])\n",
    "    d[2].append(a[6][1])\n",
    "    d[2].append(a[6][2])\n",
    "    d[2].append(a[7][0])\n",
    "    d[2].append(a[7][1])\n",
    "    d[2].append(a[7][2])\n",
    "    d[2].append(a[8][0])\n",
    "    d[2].append(a[8][1])\n",
    "    d[2].append(a[8][2])\n",
    "\n",
    "    d[3].append(a[0][3])\n",
    "    d[3].append(a[0][4])\n",
    "    d[3].append(a[0][5])\n",
    "    d[3].append(a[1][3])\n",
    "    d[3].append(a[1][4])\n",
    "    d[3].append(a[1][5])\n",
    "    d[3].append(a[2][3])\n",
    "    d[3].append(a[2][4])\n",
    "    d[3].append(a[2][5])\n",
    "\n",
    "    d[4].append(a[3][3])\n",
    "    d[4].append(a[3][4])\n",
    "    d[4].append(a[3][5])\n",
    "    d[4].append(a[4][3])\n",
    "    d[4].append(a[4][4])\n",
    "    d[4].append(a[4][5])\n",
    "    d[4].append(a[5][3])\n",
    "    d[4].append(a[5][4])\n",
    "    d[4].append(a[5][5])\n",
    "\n",
    "    d[5].append(a[6][3])\n",
    "    d[5].append(a[6][4])\n",
    "    d[5].append(a[6][5])\n",
    "    d[5].append(a[7][3])\n",
    "    d[5].append(a[7][4])\n",
    "    d[5].append(a[7][5])\n",
    "    d[5].append(a[8][3])\n",
    "    d[5].append(a[8][4])\n",
    "    d[5].append(a[8][5])\n",
    "\n",
    "    d[6].append(a[0][6])\n",
    "    d[6].append(a[0][7])\n",
    "    d[6].append(a[0][8])\n",
    "    d[6].append(a[1][6])\n",
    "    d[6].append(a[1][7])\n",
    "    d[6].append(a[1][8])\n",
    "    d[6].append(a[2][6])\n",
    "    d[6].append(a[2][7])\n",
    "    d[6].append(a[2][8])\n",
    "\n",
    "    d[7].append(a[3][6])\n",
    "    d[7].append(a[3][7])\n",
    "    d[7].append(a[3][8])\n",
    "    d[7].append(a[4][6])\n",
    "    d[7].append(a[4][7])\n",
    "    d[7].append(a[4][8])\n",
    "    d[7].append(a[5][6])\n",
    "    d[7].append(a[5][7])\n",
    "    d[7].append(a[5][8])\n",
    "\n",
    "    d[8].append(a[6][6])\n",
    "    d[8].append(a[6][7])\n",
    "    d[8].append(a[6][8])\n",
    "    d[8].append(a[7][6])\n",
    "    d[8].append(a[7][7])\n",
    "    d[8].append(a[7][8])\n",
    "    d[8].append(a[8][6])\n",
    "    d[8].append(a[8][7])\n",
    "    d[8].append(a[8][8])\n",
    "\n",
    "    for j in range(9):\n",
    "        for jj in range(9):\n",
    "            b[j].append(a[j][jj])\n",
    "            c[j].append(a[jj][j])\n",
    "    for tt in range(9):\n",
    "        if len(set(d[tt]))==9 and len(set(b[tt]))==9 and len(set(c[tt]))==9:\n",
    "            result = 1\n",
    "        else:\n",
    "            result = 0\n",
    "            break\n",
    "    print(f'#{i+1} {result}')"
   ]
  },
  {
   "cell_type": "code",
   "execution_count": null,
   "metadata": {},
   "outputs": [],
   "source": [
    "y=[1,2,3,4,5,6,7,8,9]\n",
    "for i in range(int(input())):\n",
    "        a=[list(map(int,input().split())) for i in range(9)]\n",
    "        b=list(zip(*a))\n",
    "        t=0\n",
    "        for j in range(9):\n",
    "                if sorted(a[j])==y and sorted(b[j])==y:\n",
    "                        t+=1\n",
    "        for m in range(0,9,3):\n",
    "                for k in range(0,9,3):\n",
    "                        c=a[m][k:k+3]+a[m+1][k:k+3]+a[m+2][k:k+3]\n",
    "                        if sorted(c)==y:\n",
    "                                t+=1\n",
    "        [print(f'#{i+1} 1')if t==18 else print(f'#{i+1} 0')]"
   ]
  },
  {
   "cell_type": "markdown",
   "metadata": {},
   "source": [
    "# 1926. 간단한 369게임"
   ]
  },
  {
   "cell_type": "code",
   "execution_count": null,
   "metadata": {},
   "outputs": [],
   "source": [
    "n = int(input())\n",
    "s = ''\n",
    "\n",
    "for i in range(1,n+1):\n",
    "    cnt = 0\n",
    "    if '3' in str(i):\n",
    "        cnt += str(i).count('3')\n",
    "        cnt += str(i).count('6')\n",
    "        cnt += str(i).count('9')\n",
    "        s += '-'*cnt + ' '\n",
    "    elif '6' in str(i):\n",
    "        cnt += str(i).count('3')\n",
    "        cnt += str(i).count('6')\n",
    "        cnt += str(i).count('9')\n",
    "        s += '-'*cnt + ' '\n",
    "    elif '9' in str(i):\n",
    "        cnt += str(i).count('3')\n",
    "        cnt += str(i).count('6')\n",
    "        cnt += str(i).count('9')\n",
    "        s += '-'*cnt + ' '\n",
    "    else:\n",
    "        s += str(i) + ' '\n",
    "print(s)"
   ]
  },
  {
   "cell_type": "markdown",
   "metadata": {},
   "source": [
    "# 2007. 패턴 마디의 길이"
   ]
  },
  {
   "cell_type": "code",
   "execution_count": null,
   "metadata": {},
   "outputs": [],
   "source": [
    "n = int(input())\n",
    "for i in range(n):\n",
    "    s = input()\n",
    "    ss = ''\n",
    "    for ii in range(len(s)):\n",
    "        if (s[ii] in ss and s.index(s[ii])==0) and (s[ii+1] in ss and s.index(s[ii+1])==1):\n",
    "            break\n",
    "        else :\n",
    "            ss += s[ii]\n",
    "    result = len(ss)\n",
    "    print(f'#{i+1} {result}')"
   ]
  },
  {
   "cell_type": "markdown",
   "metadata": {},
   "source": [
    "# 1986. 지그재그 숫자"
   ]
  },
  {
   "cell_type": "code",
   "execution_count": 2,
   "metadata": {},
   "outputs": [
    {
     "name": "stdout",
     "output_type": "stream",
     "text": [
      "2\n",
      "5\n",
      "#1 3\n",
      "6\n",
      "#2 -3\n"
     ]
    }
   ],
   "source": [
    "n = int(input())\n",
    "for i in range(n):\n",
    "    m = int(input())\n",
    "    result = 0\n",
    "    for ii in range(1,m+1):\n",
    "        if ii%2==1:\n",
    "            result += ii\n",
    "        else:\n",
    "            result -= ii\n",
    "    print(f'#{i+1} {result}')"
   ]
  },
  {
   "cell_type": "markdown",
   "metadata": {},
   "source": [
    "# 1983. 조교의 성적 매기기"
   ]
  },
  {
   "cell_type": "code",
   "execution_count": 29,
   "metadata": {
    "scrolled": true
   },
   "outputs": [
    {
     "name": "stdout",
     "output_type": "stream",
     "text": [
      "1\n",
      "10 2\n",
      "87 59 88\n",
      "99 94 78\n",
      "94 86 86\n",
      "99 100 99\n",
      "69 76 70\n",
      "76 89 96\n",
      "98 95 96\n",
      "74 69 60\n",
      "98 84 67\n",
      "85 84 91\n",
      "[74.6, 92.55000000000001, 88.8, 99.45, 72.35, 85.85000000000001, 96.25, 68.95, 85.5, 85.75] 7 92.55000000000001\n",
      "[68.95, 72.35, 74.6, 85.5, 85.75, 85.85000000000001, 88.8, 92.55000000000001, 96.25, 99.45] 8 92.55000000000001\n",
      "#1 A-\n"
     ]
    }
   ],
   "source": [
    "t = int(input())\n",
    "for tc in range(t):\n",
    "    tt = list(map(int, input().split()))\n",
    "    n = tt[0] #학생수\n",
    "    k = tt[1] #학점이 궁금한 학생 번호\n",
    "    score = [0] * n\n",
    "    result = [0] * n\n",
    "    for ii in range(n):\n",
    "        score = list(map(float, input().split())) # 중간 기말 과제\n",
    "        result[ii]  = (score[0]*0.35 + score[1]*0.45 + score[2]*0.20)\n",
    "    student = result[k-1]\n",
    "    result.sort()\n",
    "    que = result.index(student)+1\n",
    "    last = '0'\n",
    "    if 0<que<=n/10:\n",
    "        last = 'D0'\n",
    "    elif n/10<que<=2*n/10:\n",
    "        last = 'C-'\n",
    "    elif 2*n/10<que<=3*n/10:\n",
    "        last = 'C0'\n",
    "    elif 3*n/10<que<=4*n/10:\n",
    "        last = 'C+'\n",
    "    elif 4*n/10<que<=5*n/10:\n",
    "        last = 'B-'\n",
    "    elif 5*n/10<que<=6*n/10:\n",
    "        last = 'B0'\n",
    "    elif 6*n/10<que<=7*n/10:\n",
    "        last = 'B+'\n",
    "    elif 7*n/10<que<=8*n/10:\n",
    "        last = 'A-'\n",
    "    elif 8*n/10<que<=9*n/10:\n",
    "        last = 'A0'\n",
    "    elif 9*n/10<que<=n:\n",
    "        last = 'A+'\n",
    "        \n",
    "    print(f'#{tc+1} {last}')"
   ]
  },
  {
   "cell_type": "markdown",
   "metadata": {},
   "source": [
    "# 1989. 초심자의 회문 검사"
   ]
  },
  {
   "cell_type": "code",
   "execution_count": 3,
   "metadata": {
    "scrolled": true
   },
   "outputs": [
    {
     "name": "stdout",
     "output_type": "stream",
     "text": [
      "3\n",
      "level\n",
      "#1 1\n",
      "samsung\n",
      "#2 0\n",
      "eye\n",
      "#3 1\n"
     ]
    }
   ],
   "source": [
    "n = int(input())\n",
    "for i in range(n):\n",
    "    word = input()\n",
    "    t = len(word)//2\n",
    "    for ii in range(t):\n",
    "        if word[ii] != word[-1-ii]:\n",
    "            result = 0\n",
    "            break\n",
    "        result = 1\n",
    "    print(f'#{i+1} {result}')"
   ]
  },
  {
   "cell_type": "markdown",
   "metadata": {},
   "source": [
    "# 2005. 파스칼의 삼각형"
   ]
  },
  {
   "cell_type": "code",
   "execution_count": 57,
   "metadata": {
    "scrolled": true
   },
   "outputs": [
    {
     "name": "stdout",
     "output_type": "stream",
     "text": [
      "10\n",
      "1\n",
      "#1\n",
      "1\n",
      "2\n",
      "#2\n",
      "1\n",
      "1 1\n",
      "3\n",
      "#3\n",
      "1\n",
      "1 1\n",
      "1 2 1\n",
      "4\n",
      "#4\n",
      "1\n",
      "1 1\n",
      "1 2 1\n",
      "1 3 3 1\n",
      "5\n",
      "#5\n",
      "1\n",
      "1 1\n",
      "1 2 1\n",
      "1 3 3 1\n",
      "1 4 6 4 1\n",
      "6\n",
      "#6\n",
      "1\n",
      "1 1\n",
      "1 2 1\n",
      "1 3 3 1\n",
      "1 4 6 4 1\n",
      "1 5 10 10 5 1\n",
      "7\n",
      "#7\n",
      "1\n",
      "1 1\n",
      "1 2 1\n",
      "1 3 3 1\n",
      "1 4 6 4 1\n",
      "1 5 10 10 5 1\n",
      "1 6 15 20 15 6 1\n",
      "8\n",
      "#8\n",
      "1\n",
      "1 1\n",
      "1 2 1\n",
      "1 3 3 1\n",
      "1 4 6 4 1\n",
      "1 5 10 10 5 1\n",
      "1 6 15 20 15 6 1\n",
      "1 7 21 35 35 21 7 1\n",
      "10\n",
      "#9\n",
      "1\n",
      "1 1\n",
      "1 2 1\n",
      "1 3 3 1\n",
      "1 4 6 4 1\n",
      "1 5 10 10 5 1\n",
      "1 6 15 20 15 6 1\n",
      "1 7 21 35 35 21 7 1\n",
      "1 8 28 56 70 56 28 8 1\n",
      "1 9 36 84 126 126 84 36 9 1\n",
      "1\n",
      "#10\n",
      "1\n"
     ]
    }
   ],
   "source": [
    "def pascal(n):\n",
    "    s = [1]*n\n",
    "    if n==1:\n",
    "        s[0] = 1\n",
    "    elif n==2:\n",
    "        pascal(1)\n",
    "        s[0] = 1\n",
    "        s[1] = 1\n",
    "    else:\n",
    "        pascal(n-1)\n",
    "        s[0] = 1\n",
    "        s[-1] = 1\n",
    "        for i in range(1, n-1):\n",
    "            s[i] = pascal(n-1)[i-1] + pascal(n-1)[i]\n",
    "    return s\n",
    "\n",
    "tc = int(input())\n",
    "for t in range(tc):\n",
    "    n = int(input())\n",
    "    print(f'#{t+1}')\n",
    "    for i in range(n):\n",
    "        for ii in range(i+1):\n",
    "            if ii != i:\n",
    "                print(pascal(i+1)[ii], end=' ')\n",
    "            else :\n",
    "                print(pascal(i+1)[ii], end='\\n')"
   ]
  },
  {
   "cell_type": "code",
   "execution_count": 87,
   "metadata": {},
   "outputs": [
    {
     "name": "stdout",
     "output_type": "stream",
     "text": [
      "1\n",
      "10\n",
      "#1\n",
      "1 \n",
      "1 1 \n",
      "1 2 1 \n",
      "1 3 3 1 \n",
      "1 4 6 4 1 \n",
      "1 5 10 10 5 1 \n",
      "1 6 15 20 15 6 1 \n",
      "1 7 21 35 35 21 7 1 \n",
      "1 8 28 56 70 56 28 8 1 \n",
      "1 9 36 84 126 126 84 36 9 1 \n"
     ]
    }
   ],
   "source": [
    "tc = int(input())\n",
    "for t in range(tc):\n",
    "    n = int(input())\n",
    "    print(f'#{t+1}')\n",
    "    for i in range(1, n+1):\n",
    "        s = ''\n",
    "        li = [1]*i\n",
    "        if i==1 or i==2:\n",
    "            save = li\n",
    "            for a in range(i):\n",
    "                s += str(li[a]) + ' '\n",
    "            print(s)\n",
    "        else :\n",
    "            for ii in range(1, i-1):\n",
    "                li[ii] = save[ii-1] + save[ii]\n",
    "            save = li\n",
    "            for a in range(i):\n",
    "                s += str(li[a]) + ' '\n",
    "            print(s)"
   ]
  }
 ],
 "metadata": {
  "kernelspec": {
   "display_name": "Python 3",
   "language": "python",
   "name": "python3"
  },
  "language_info": {
   "codemirror_mode": {
    "name": "ipython",
    "version": 3
   },
   "file_extension": ".py",
   "mimetype": "text/x-python",
   "name": "python",
   "nbconvert_exporter": "python",
   "pygments_lexer": "ipython3",
   "version": "3.6.7"
  },
  "toc": {
   "base_numbering": 1,
   "nav_menu": {},
   "number_sections": true,
   "sideBar": true,
   "skip_h1_title": false,
   "title_cell": "Table of Contents",
   "title_sidebar": "Contents",
   "toc_cell": false,
   "toc_position": {},
   "toc_section_display": true,
   "toc_window_display": false
  }
 },
 "nbformat": 4,
 "nbformat_minor": 2
}
